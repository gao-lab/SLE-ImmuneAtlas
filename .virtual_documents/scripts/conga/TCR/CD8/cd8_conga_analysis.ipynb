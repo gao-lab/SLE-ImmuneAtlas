get_ipython().run_line_magic("matplotlib", " inline")
import sys
from os.path import exists

# this is the repository I pulled/downloaded from github: 
CONGA_PATH = '/rd2/user/xiacr/sle/source/conga/'
# confirm that it's the right level directory (since the repo and library have the same name)
assert exists(CONGA_PATH+'/README.md')
sys.path.append(CONGA_PATH)

import scanpy as sc
import conga
import pandas as pd
import numpy as np
import matplotlib.pyplot as plt


adata = sc.read_h5ad('../step2/all_tcell_merged_gex.h5ad')


adata.obs['old_index'] = adata.obs.index
adata.obs


# seu_meta.iloc[:,0]
tmp = adata.obs.batch_gex_data.str.split('/',expand=True).iloc[:,10].str.split('_',expand=True).iloc[:,0].reset_index(drop=True) # sample name
adata.obs['seu_barcode'] = 'unknown'
adata.obs['seu_barcode'] = ( tmp + '_' +adata.obs.index.str.split('1-',expand=True,n=1).to_frame().iloc[:,0].reset_index(drop=True)  + '1').to_list()
adata.obs['seu_barcode']


cd8_seu_meta = pd.read_csv('./seurat_cd8_filter_meta.csv')
cd8_seu_meta.iloc[:,0] = cd8_seu_meta['orig.ident'] + '_' + cd8_seu_meta.iloc[:,0].str.split('_[0-9][0-9]|_[0-9]',expand=True,n=1).iloc[:,0]
seu_meta = cd8_seu_meta
seu_meta


# seu_meta.iloc[:,0].isin(adata.obs['seu_barcode']).value_counts()
adata.obs['seu_barcode'].isin(seu_meta.iloc[:,0]).value_counts()


tmp = adata.obs.merge(right= seu_meta, left_on='seu_barcode',right_on='Unnamed: 0',how  = 'left')
tmp.index = tmp['seu_barcode']
adata.obs = tmp


adata.obs.treatment.isna().value_counts()
adata = adata[~adata.obs.treatment.isna()]


adata.obs = adata.obs.drop(columns='scrublet_doublet')
adata.obs.index = adata.obs.old_index
adata.obs.index.name  = 'cell_barcode'
adata.write_h5ad('./all_cd8_merged_gex_subset.h5ad')


adata


gex_datafile = './all_cd8_merged_gex_subset.h5ad'
gex_datatype = 'h5ad' # other possibilities right now: ['10x_mtx', 'h5ad'] (h5ad from scanpy)
# tcr_datafile = './step2/' # not need
organism = 'human'

clones_file = '../step2/all_tcell_merged_clones.tsv'
kpca_file = '../step2/all_tcell_merged_clones_AB.dist_50_kpcs'
outfile_prefix = 'cd8_Tcell_filter' # this string will be prepended to results (figure and table) filenames

assert exists(gex_datafile)
assert exists(clones_file)
assert exists(kpca_file)


adata = conga.preprocess.read_dataset(gex_datafile, gex_datatype, clones_file ,kpca_file = kpca_file)


adata.uns['organism'] = organism


# IF use para hvg_batch_key =  batch ?
adata = conga.preprocess.filter_and_scale( 
    adata, 
    min_genes_per_cell=200,
    max_genes_per_cell=10000,
    max_percent_mito=0.2,
    hvg_batch_key='batch'
)


adata = conga.preprocess.reduce_to_single_cell_per_clone(adata)


adata = conga.preprocess.cluster_and_tsne_and_umap( adata, clustering_resolution = 0.8,clustering_method = 'leiden',n_gex_pcs=50)


sc.pl.embedding(basis= 'X_umap_gex', adata = adata, color=[ 'subtype','orig.ident', 'treatment'],ncols=1,size=10 )


nbr_fracs = [0.01, 0.1]

# we use this nbrhood size for computing the nndists
nbr_frac_for_nndists = 0.01

all_nbrs, nndists_gex, nndists_tcr = conga.preprocess.calc_nbrs(
    adata, nbr_fracs, also_calc_nndists=True, nbr_frac_for_nndists=nbr_frac_for_nndists)

# stash these in obs array, they are used in a few places...
adata.obs['nndists_gex'] = nndists_gex
adata.obs['nndists_tcr'] = nndists_tcr

conga.preprocess.setup_tcr_cluster_names(adata) #stores in adata.uns


results = conga.correlations.run_graph_vs_graph(
    adata, all_nbrs, outfile_prefix=outfile_prefix)



results = adata.uns['conga_results'][conga.tags.GRAPH_VS_GRAPH]
results.head() 


conga_scores = adata.obs['conga_scores']
colors = np.sqrt(np.maximum(-1*np.log10(conga_scores),0.0))
reorder = np.argsort(colors)

plt.figure(figsize=(12,6))
plt.subplot(121)
xy = adata.obsm['X_gex_2d']
plt.scatter( xy[reorder,0], xy[reorder,1], c=colors[reorder], vmin=0, vmax=np.sqrt(5))
plt.title('GEX UMAP colored by conga score')

plt.subplot(122)
xy = adata.obsm['X_tcr_2d']
plt.scatter( xy[reorder,0], xy[reorder,1], c=colors[reorder], vmin=0, vmax=np.sqrt(5))
plt.title('BCR UMAP colored by conga score');


nbrs_gex, nbrs_tcr = all_nbrs[0.1]

min_cluster_size = 5

conga.plotting.make_graph_vs_graph_logos(
    adata,
    outfile_prefix,
    min_cluster_size,
    nbrs_gex,
    nbrs_tcr,
)
