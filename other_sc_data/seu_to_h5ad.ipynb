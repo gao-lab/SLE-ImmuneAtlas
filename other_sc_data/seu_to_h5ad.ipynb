{
 "cells": [
  {
   "cell_type": "code",
   "execution_count": 1,
   "id": "742d1ad6-f031-44e5-9f7a-5dc59ef84412",
   "metadata": {},
   "outputs": [
    {
     "name": "stderr",
     "output_type": "stream",
     "text": [
      "Loading required package: reticulate\n",
      "\n"
     ]
    }
   ],
   "source": [
    "library(sceasy)"
   ]
  },
  {
   "cell_type": "code",
   "execution_count": 2,
   "id": "69a91f80-c7ac-401f-b727-0acdd5730087",
   "metadata": {},
   "outputs": [],
   "source": [
    "load('./merge/pbmc_dataset_list.rdata')"
   ]
  },
  {
   "cell_type": "code",
   "execution_count": 1,
   "id": "24c24dbd-1fcf-41a1-b4a0-0e5ac03ebed8",
   "metadata": {},
   "outputs": [
    {
     "data": {
      "text/html": [],
      "text/latex": [],
      "text/markdown": [],
      "text/plain": [
       "character(0)"
      ]
     },
     "metadata": {},
     "output_type": "display_data"
    }
   ],
   "source": [
    "setwd('/rd2/user/xiacr/sle/other_sc_data/h5ad/')\n",
    "ls()"
   ]
  },
  {
   "cell_type": "code",
   "execution_count": 5,
   "id": "1e782bf0-567a-4158-8a4f-8f171f63393f",
   "metadata": {},
   "outputs": [
    {
     "name": "stderr",
     "output_type": "stream",
     "text": [
      "Warning message in .regularise_df(obj@meta.data, drop_single_values = drop_single_values):\n",
      "“Dropping single category variables:batch”\n"
     ]
    },
    {
     "data": {
      "text/plain": [
       "AnnData object with n_obs × n_vars = 12677 × 19991\n",
       "    obs: 'orig.ident', 'nCount_RNA', 'nFeature_RNA'\n",
       "    var: 'name'"
      ]
     },
     "metadata": {},
     "output_type": "display_data"
    }
   ],
   "source": [
    "sceasy::convertFormat(EBioMedicine_21, from=\"seurat\", to=\"anndata\",outFile='./EBioMedicine_21.h5ad')"
   ]
  },
  {
   "cell_type": "code",
   "execution_count": 6,
   "id": "249434f0-dc00-4205-9b03-329c90282c88",
   "metadata": {},
   "outputs": [
    {
     "name": "stderr",
     "output_type": "stream",
     "text": [
      "Warning message in .regularise_df(obj@meta.data, drop_single_values = drop_single_values):\n",
      "“Dropping single category variables:batch”\n"
     ]
    },
    {
     "data": {
      "text/plain": [
       "AnnData object with n_obs × n_vars = 42256 × 15968\n",
       "    obs: 'orig.ident', 'nCount_RNA', 'nFeature_RNA'\n",
       "    var: 'name'"
      ]
     },
     "metadata": {},
     "output_type": "display_data"
    },
    {
     "name": "stderr",
     "output_type": "stream",
     "text": [
      "Warning message in .regularise_df(obj@meta.data, drop_single_values = drop_single_values):\n",
      "“Dropping single category variables:batch”\n"
     ]
    },
    {
     "data": {
      "text/plain": [
       "AnnData object with n_obs × n_vars = 24389 × 17521\n",
       "    obs: 'orig.ident', 'nCount_RNA', 'nFeature_RNA'\n",
       "    var: 'name'"
      ]
     },
     "metadata": {},
     "output_type": "display_data"
    },
    {
     "name": "stderr",
     "output_type": "stream",
     "text": [
      "Warning message in .regularise_df(obj@meta.data, drop_single_values = drop_single_values):\n",
      "“Dropping single category variables:analyte_type, Assay.Type, BioProject, biospecimen_repository, body_site, gap_accession, histological_type, Instrument, Is_Tumor, LibraryLayout, LibrarySelection, LibrarySource, Organism, Platform, ReleaseDate, SRA.Study, study_design, study_name, batch”\n"
     ]
    },
    {
     "data": {
      "text/plain": [
       "AnnData object with n_obs × n_vars = 385231 × 23288\n",
       "    obs: 'Run', 'BioSample', 'biospecimen_repository_sample_id', 'Bytes', 'Center.Name', 'Consent_Code', 'Consent', 'DATASTORE.filetype', 'DATASTORE.provider', 'DATASTORE.region', 'Experiment', 'Library.Name', 'Sample.Name', 'sex', 'submitted_subject_id', 'subject_is_affected', 'AvgSpotLen', 'Bases', 'study_disease', 'orig.ident', 'nCount_RNA', 'nFeature_RNA', 'barcode', 'group', 'percent_mito', 'percent_ribo', 'RNA_snn_res.0.8', 'seurat_clusters', 'S.Score', 'G2M.Score', 'Phase', 'old.ident', 'cell_type'\n",
       "    var: 'vst.mean', 'vst.variance', 'vst.variance.expected', 'vst.variance.standardized', 'vst.variable'\n",
       "    obsm: 'X_pca', 'X_umap'"
      ]
     },
     "metadata": {},
     "output_type": "display_data"
    },
    {
     "name": "stderr",
     "output_type": "stream",
     "text": [
      "Warning message in .regularise_df(obj@meta.data, drop_single_values = drop_single_values):\n",
      "“Dropping single category variables:orig.ident”\n"
     ]
    },
    {
     "data": {
      "text/plain": [
       "AnnData object with n_obs × n_vars = 153937 × 14855\n",
       "    obs: 'nCount_RNA', 'nFeature_RNA'\n",
       "    var: 'name'"
      ]
     },
     "metadata": {},
     "output_type": "display_data"
    },
    {
     "name": "stderr",
     "output_type": "stream",
     "text": [
      "Warning message in .regularise_df(obj@meta.data, drop_single_values = drop_single_values):\n",
      "“Dropping single category variables:orig.ident”\n"
     ]
    },
    {
     "data": {
      "text/plain": [
       "AnnData object with n_obs × n_vars = 819878 × 18190\n",
       "    obs: 'nCount_RNA', 'nFeature_RNA'\n",
       "    var: 'name'"
      ]
     },
     "metadata": {},
     "output_type": "display_data"
    }
   ],
   "source": [
    "sceasy::convertFormat(nbt_17, from=\"seurat\", to=\"anndata\",outFile='./nbt_17.h5ad')\n",
    "sceasy::convertFormat(pnas_19, from=\"seurat\", to=\"anndata\",outFile='./pnas_19.h5ad')\n",
    "sceasy::convertFormat(natimm_20, from=\"seurat\", to=\"anndata\",outFile='./natimm_20.h5ad')\n",
    "sceasy::convertFormat(nc_19_sle_flare, from=\"seurat\", to=\"anndata\",outFile='./nc_19_sle_flare.h5ad')\n",
    "sceasy::convertFormat(nc_19_sle, from=\"seurat\", to=\"anndata\",outFile='./nc_19_sle.h5ad')"
   ]
  },
  {
   "cell_type": "code",
   "execution_count": 8,
   "id": "85aa0aac-346b-40eb-bfdf-949bf32608a5",
   "metadata": {},
   "outputs": [
    {
     "data": {
      "text/html": [
       "<table class=\"dataframe\">\n",
       "<caption>A matrix: 2 × 6 of type dbl</caption>\n",
       "<thead>\n",
       "\t<tr><th></th><th scope=col>used</th><th scope=col>(Mb)</th><th scope=col>gc trigger</th><th scope=col>(Mb)</th><th scope=col>max used</th><th scope=col>(Mb)</th></tr>\n",
       "</thead>\n",
       "<tbody>\n",
       "\t<tr><th scope=row>Ncells</th><td> 2938187</td><td>157.0</td><td>   5854240</td><td>  312.7</td><td>   5854240</td><td>  312.7</td></tr>\n",
       "\t<tr><th scope=row>Vcells</th><td>32509713</td><td>248.1</td><td>5482723468</td><td>41829.9</td><td>6740612970</td><td>51426.8</td></tr>\n",
       "</tbody>\n",
       "</table>\n"
      ],
      "text/latex": [
       "A matrix: 2 × 6 of type dbl\n",
       "\\begin{tabular}{r|llllll}\n",
       "  & used & (Mb) & gc trigger & (Mb) & max used & (Mb)\\\\\n",
       "\\hline\n",
       "\tNcells &  2938187 & 157.0 &    5854240 &   312.7 &    5854240 &   312.7\\\\\n",
       "\tVcells & 32509713 & 248.1 & 5482723468 & 41829.9 & 6740612970 & 51426.8\\\\\n",
       "\\end{tabular}\n"
      ],
      "text/markdown": [
       "\n",
       "A matrix: 2 × 6 of type dbl\n",
       "\n",
       "| <!--/--> | used | (Mb) | gc trigger | (Mb) | max used | (Mb) |\n",
       "|---|---|---|---|---|---|---|\n",
       "| Ncells |  2938187 | 157.0 |    5854240 |   312.7 |    5854240 |   312.7 |\n",
       "| Vcells | 32509713 | 248.1 | 5482723468 | 41829.9 | 6740612970 | 51426.8 |\n",
       "\n"
      ],
      "text/plain": [
       "       used     (Mb)  gc trigger (Mb)    max used   (Mb)   \n",
       "Ncells  2938187 157.0    5854240   312.7    5854240   312.7\n",
       "Vcells 32509713 248.1 5482723468 41829.9 6740612970 51426.8"
      ]
     },
     "metadata": {},
     "output_type": "display_data"
    }
   ],
   "source": [
    "rm(list=ls())\n",
    "gc()"
   ]
  }
 ],
 "metadata": {
  "kernelspec": {
   "display_name": "R41 4.0.3",
   "language": "R",
   "name": "ir403"
  },
  "language_info": {
   "codemirror_mode": "r",
   "file_extension": ".r",
   "mimetype": "text/x-r-source",
   "name": "R",
   "pygments_lexer": "r",
   "version": "4.0.3"
  }
 },
 "nbformat": 4,
 "nbformat_minor": 5
}
