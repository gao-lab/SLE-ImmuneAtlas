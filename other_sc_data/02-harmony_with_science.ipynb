{
 "cells": [
  {
   "cell_type": "code",
   "execution_count": 1,
   "id": "e35499ff-4c97-4e07-b763-b026e7e2fd64",
   "metadata": {},
   "outputs": [],
   "source": [
    "import os\n",
    "os.chdir('/rd2/user/xiacr/sle/other_sc_data/')"
   ]
  },
  {
   "cell_type": "code",
   "execution_count": 4,
   "id": "edf46255-f171-4abf-a5ef-8766e3ae742a",
   "metadata": {},
   "outputs": [],
   "source": [
    "import numpy as np\n",
    "import pandas as pd\n",
    "import scanpy as sc\n",
    "import harmonypy as hm\n",
    "import importlib\n",
    "\n",
    "import glob\n",
    "import anndata as ad\n",
    "import collections\n",
    "\n",
    "import scanpy.external as sce\n",
    "from mycolorpy import colorlist as mcp\n",
    "from IPython.display import display, HTML\n",
    "\n",
    "# import utils\n",
    "# importlib.reload(utils)"
   ]
  },
  {
   "cell_type": "code",
   "execution_count": null,
   "id": "947cf56f-cdd5-4bbc-9e89-e321755fd10d",
   "metadata": {},
   "outputs": [],
   "source": []
  },
  {
   "cell_type": "code",
   "execution_count": 3,
   "id": "f83127b5-a4a1-4bb8-a48d-1b172707837b",
   "metadata": {},
   "outputs": [
    {
     "name": "stdout",
     "output_type": "stream",
     "text": [
      "scanpy==1.8.2 anndata==0.7.8 umap==0.5.2 numpy==1.19.0 scipy==1.8.0 pandas==1.4.1 scikit-learn==1.0.2 statsmodels==0.13.1 python-igraph==0.9.9 pynndescent==0.5.5\n"
     ]
    }
   ],
   "source": [
    "sc.settings.verbosity = 3             # verbosity: errors (0), warnings (1), info (2), hints (3)\n",
    "sc.logging.print_header()\n",
    "sc.settings.set_figure_params(dpi=160, facecolor='white', fontsize=10)\n",
    "sc._settings.ScanpyConfig.n_jobs = 32"
   ]
  },
  {
   "cell_type": "markdown",
   "id": "db8d220e-7a6c-4bac-bb24-4ab1a3dcdbbf",
   "metadata": {},
   "source": [
    "#  Read in data"
   ]
  },
  {
   "cell_type": "code",
   "execution_count": 5,
   "id": "db27fe6e-2f01-4ee5-a1de-dd0c78d2a04d",
   "metadata": {},
   "outputs": [],
   "source": [
    "core_data =  sc.read_h5ad('./h5ad/04-pbmc_all_anno_modify_meta.h5ad')\n",
    "\n",
    "core_data.obs['group'] = core_data.obs['group'].astype(str)\n",
    "core_data.obs.loc[core_data.obs[(core_data.obs['treatment'].isin(['untreated']))].index.tolist(),'group'] = 'sle_flare'\n",
    "core_data.obs.loc[core_data.obs[(core_data.obs['treatment'].isin(['treated']))].index.tolist(),'group'] = 'sle_treated'\n",
    "core_data.obs.loc[core_data.obs[(core_data.obs['treatment'].isin(['HC']))].index.tolist(),'group'] = 'hc'\n",
    "core_data.obs['sample'] = core_data.obs['dataset'].astype(str) + '_' + core_data.obs['orig.ident'].astype(str)"
   ]
  },
  {
   "cell_type": "code",
   "execution_count": 7,
   "id": "32f4254a-9c49-49a0-9ea2-920ab142617a",
   "metadata": {},
   "outputs": [],
   "source": [
    "science_22 = sc.read_h5ad('./data/22_science_sle/GSE174188_CLUES1_adjusted.h5ad')"
   ]
  },
  {
   "cell_type": "code",
   "execution_count": 25,
   "id": "2b305ccb-2f04-4da4-8677-ff401b1634aa",
   "metadata": {},
   "outputs": [],
   "source": [
    "science_22.obs['group'] = science_22.obs['Status'].tolist()\n",
    "science_22.obs.loc[science_22.obs[(science_22.obs['group'].isin(['Flare']))].index.tolist(),'group'] = 'sle_flare'\n",
    "science_22.obs.loc[science_22.obs[(science_22.obs['group'].isin(['Managed']))].index.tolist(),'group'] = 'sle'\n",
    "science_22.obs.loc[science_22.obs[(science_22.obs['group'].isin(['Healthy']))].index.tolist(),'group'] = 'hc'\n",
    "science_22.obs.loc[science_22.obs[(science_22.obs['group'].isin(['Treated']))].index.tolist(),'group'] = 'sle_treated'"
   ]
  },
  {
   "cell_type": "code",
   "execution_count": 6,
   "id": "b4bf056d-58d3-4ce7-bf70-18ff47697666",
   "metadata": {},
   "outputs": [],
   "source": [
    "nbt_17= sc.read_h5ad('./h5ad/nbt_17_meta.h5ad')\n",
    "pnas_19 = sc.read_h5ad('./h5ad/pnas_19_meta.h5ad')\n",
    "ni_20 =  sc.read_h5ad('./h5ad/ni_20_meta.h5ad')\n",
    "ebi_21 = sc.read_h5ad('./h5ad/ebi_21_meta.h5ad')"
   ]
  },
  {
   "cell_type": "code",
   "execution_count": 8,
   "id": "275c3c48-2d3d-4a89-9ff8-59737f9d57b5",
   "metadata": {},
   "outputs": [],
   "source": [
    "nbt_17.obs['dataset'] = 'nbt_17'\n",
    "pnas_19.obs['dataset'] = 'pnas_19'\n",
    "ni_20.obs['dataset'] = 'ni_20'\n",
    "ebi_21.obs['dataset'] = 'ebi_21'\n",
    "science_22.obs['dataset'] = 'sciencd_22'\n",
    "core_data.obs['dataset'] = 'core_dataset'"
   ]
  },
  {
   "cell_type": "code",
   "execution_count": 27,
   "id": "6fd17299-2c33-4091-a627-2b3f5c0e6b80",
   "metadata": {},
   "outputs": [
    {
     "name": "stderr",
     "output_type": "stream",
     "text": [
      "/home/xiacr/miniconda3/envs/sle/lib/python3.8/site-packages/anndata/_core/merge.py:915: UserWarning: Only some AnnData objects have `.raw` attribute, not concatenating `.raw` attributes.\n",
      "  warn(\n"
     ]
    },
    {
     "data": {
      "text/plain": [
       "AnnData object with n_obs × n_vars = 1933294 × 27584\n",
       "    obs: 'orig.ident', 'nCount_RNA', 'nFeature_RNA', 'group', 'treatment', 'pair', 'percent_mito', 'percent_ribo', 'S.Score', 'G2M.Score', 'Phase', 'old.ident', 'RNA_snn_res.0.8', 'RNA_snn_res.1', 'seurat_clusters', 'main_type', 'scrublet_doublet', 'subtype', 'RNA_snn_res.0.6', 'RNA_snn_res.1.2', 'RNA_snn_res.0.2', 'RNA_snn_res.0.3', 'RNA_snn_res.0.4', 'RNA_snn_res.0.5', 'barcode', 'dataset', 'sample', 'batch_cov', 'ind_cov', 'Processing_Cohort', 'louvain', 'cg_cov', 'ct_cov', 'L3', 'ind_cov_batch_cov', 'Age', 'Sex', 'pop_cov', 'Status', 'SLE_status', 'Run', 'BioSample', 'biospecimen_repository_sample_id', 'Bytes', 'Center.Name', 'Consent_Code', 'Consent', 'DATASTORE.filetype', 'DATASTORE.provider', 'DATASTORE.region', 'Experiment', 'Library.Name', 'Sample.Name', 'sex', 'submitted_subject_id', 'subject_is_affected', 'AvgSpotLen', 'Bases', 'study_disease', 'cell_type', 'batch'\n",
       "    var: 'vst.mean-0', 'vst.variance-0', 'vst.variance.expected-0', 'vst.variance.standardized-0', 'vst.variable-0', 'gene_ids-1', 'name-2', 'vst.mean-3', 'vst.variance-3', 'vst.variance.expected-3', 'vst.variance.standardized-3', 'vst.variable-3', 'name-4', 'name-5'\n",
       "    obsm: 'X_pca', 'X_harmony', 'X_umap'"
      ]
     },
     "execution_count": 27,
     "metadata": {},
     "output_type": "execute_result"
    }
   ],
   "source": [
    "adata = core_data.concatenate([science_22, ebi_21, ni_20, pnas_19, nbt_17],join=\"outer\")\n",
    "adata"
   ]
  },
  {
   "cell_type": "code",
   "execution_count": 28,
   "id": "4feea23e-d12a-47f9-8c35-877818ef4a2e",
   "metadata": {},
   "outputs": [
    {
     "name": "stdout",
     "output_type": "stream",
     "text": [
      "filtered out 1217299 cells that have less than 200 genes expressed\n",
      "filtered out 2927 genes that are detected in less than 20 cells\n"
     ]
    }
   ],
   "source": [
    "sc.pp.filter_cells(adata, min_genes=200)\n",
    "sc.pp.filter_genes(adata, min_cells=20)"
   ]
  },
  {
   "cell_type": "code",
   "execution_count": 31,
   "id": "6310d76f-35a3-49e7-8258-7e56d0d45f3f",
   "metadata": {},
   "outputs": [
    {
     "data": {
      "text/plain": [
       "AnnData object with n_obs × n_vars = 715995 × 24657\n",
       "    obs: 'orig.ident', 'nCount_RNA', 'nFeature_RNA', 'group', 'treatment', 'pair', 'percent_mito', 'percent_ribo', 'S.Score', 'G2M.Score', 'Phase', 'old.ident', 'RNA_snn_res.0.8', 'RNA_snn_res.1', 'seurat_clusters', 'main_type', 'scrublet_doublet', 'subtype', 'RNA_snn_res.0.6', 'RNA_snn_res.1.2', 'RNA_snn_res.0.2', 'RNA_snn_res.0.3', 'RNA_snn_res.0.4', 'RNA_snn_res.0.5', 'barcode', 'dataset', 'sample', 'batch_cov', 'ind_cov', 'Processing_Cohort', 'louvain', 'cg_cov', 'ct_cov', 'L3', 'ind_cov_batch_cov', 'Age', 'Sex', 'pop_cov', 'Status', 'SLE_status', 'Run', 'BioSample', 'biospecimen_repository_sample_id', 'Bytes', 'Center.Name', 'Consent_Code', 'Consent', 'DATASTORE.filetype', 'DATASTORE.provider', 'DATASTORE.region', 'Experiment', 'Library.Name', 'Sample.Name', 'sex', 'submitted_subject_id', 'subject_is_affected', 'AvgSpotLen', 'Bases', 'study_disease', 'cell_type', 'batch', 'n_genes'\n",
       "    var: 'vst.mean-0', 'vst.variance-0', 'vst.variance.expected-0', 'vst.variance.standardized-0', 'vst.variable-0', 'gene_ids-1', 'name-2', 'vst.mean-3', 'vst.variance-3', 'vst.variance.expected-3', 'vst.variance.standardized-3', 'vst.variable-3', 'name-4', 'name-5', 'n_cells'\n",
       "    obsm: 'X_pca', 'X_harmony', 'X_umap'"
      ]
     },
     "execution_count": 31,
     "metadata": {},
     "output_type": "execute_result"
    }
   ],
   "source": [
    "adata"
   ]
  },
  {
   "cell_type": "code",
   "execution_count": null,
   "id": "0d3fec9c-a1be-4245-919b-b5f81b36ce79",
   "metadata": {},
   "outputs": [],
   "source": [
    "del science_22 ; del core_data; del ebi_21; del ni_20; del pnas_19; del nbt_17"
   ]
  },
  {
   "cell_type": "code",
   "execution_count": null,
   "id": "5024c0c2-09b8-48f8-90cb-566dda88181e",
   "metadata": {},
   "outputs": [],
   "source": [
    "adata.write('./output/01-pbmc_concat_outer_science.h5ad')"
   ]
  }
 ],
 "metadata": {
  "kernelspec": {
   "display_name": "sle",
   "language": "python",
   "name": "sle"
  },
  "language_info": {
   "codemirror_mode": {
    "name": "ipython",
    "version": 3
   },
   "file_extension": ".py",
   "mimetype": "text/x-python",
   "name": "python",
   "nbconvert_exporter": "python",
   "pygments_lexer": "ipython3",
   "version": "3.8.12"
  }
 },
 "nbformat": 4,
 "nbformat_minor": 5
}
