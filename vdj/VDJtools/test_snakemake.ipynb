{
 "cells": [
  {
   "cell_type": "code",
   "execution_count": 1,
   "id": "76d9ea5f-9c13-4b1c-815d-54f6ab495dc7",
   "metadata": {},
   "outputs": [],
   "source": [
    "import pandas as pd"
   ]
  },
  {
   "cell_type": "code",
   "execution_count": 4,
   "id": "fe12f6bd-df5c-4374-ac4b-9ff025e7fff5",
   "metadata": {},
   "outputs": [],
   "source": [
    "meta = pd.read_csv('./all_sample_meta.csv')"
   ]
  },
  {
   "cell_type": "code",
   "execution_count": 17,
   "id": "ef3c9685-c13f-4ff6-9ed1-27bbcd62b746",
   "metadata": {},
   "outputs": [],
   "source": [
    "meta['#file.name'] = './out/vdj_format/'+meta['name']+'/bcr_vdjtools.tsv'\n",
    "meta['sample.id'] = meta['name']\n",
    "meta.insert(0, 'sample.id', meta.pop('sample.id'))\n",
    "meta.insert(0, '#file.name', meta.pop('#file.name'))"
   ]
  },
  {
   "cell_type": "code",
   "execution_count": 24,
   "id": "f074c2eb-8757-4603-b0b1-bc546df36610",
   "metadata": {},
   "outputs": [],
   "source": [
    "meta.to_csv('./vdjtools_meta.tsv', index=False,sep = \"\\t\")"
   ]
  }
 ],
 "metadata": {
  "kernelspec": {
   "display_name": "sle",
   "language": "python",
   "name": "sle"
  },
  "language_info": {
   "codemirror_mode": {
    "name": "ipython",
    "version": 3
   },
   "file_extension": ".py",
   "mimetype": "text/x-python",
   "name": "python",
   "nbconvert_exporter": "python",
   "pygments_lexer": "ipython3",
   "version": "3.8.12"
  }
 },
 "nbformat": 4,
 "nbformat_minor": 5
}
