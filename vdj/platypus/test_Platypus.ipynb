{
 "cells": [
  {
   "cell_type": "code",
   "execution_count": 6,
   "id": "5fd17b2b-223d-4c6c-bfc1-5323b1dd1347",
   "metadata": {},
   "outputs": [],
   "source": [
    "library(Platypus)\n",
    "library(Seurat)\n",
    "library(tidyverse)\n",
    "library(utils)\n",
    "library(scales)\n",
    "library(pals)\n",
    "library(ggrepel)\n",
    "library(igraph)"
   ]
  },
  {
   "cell_type": "code",
   "execution_count": 8,
   "id": "8c412e0b-c3ea-4687-bc07-6c3eb71d07ae",
   "metadata": {
    "collapsed": true,
    "jupyter": {
     "outputs_hidden": true
    },
    "tags": []
   },
   "outputs": [
    {
     "name": "stderr",
     "output_type": "stream",
     "text": [
      "Loading in data \n",
      "\n",
      "\n",
      "2022-02-19 01:18:27\n",
      "\n",
      "Loaded VDJ data \n",
      "\n",
      "\n",
      "2022-02-19 01:18:49\n",
      "\n"
     ]
    },
    {
     "name": "stdout",
     "output_type": "stream",
     "text": [
      "Setting GEX directory to provided path/filtered_feature_bc_matrix \n"
     ]
    },
    {
     "name": "stderr",
     "output_type": "stream",
     "text": [
      "Loaded GEX data \n",
      "\n",
      "\n"
     ]
    },
    {
     "name": "stdout",
     "output_type": "stream",
     "text": [
      "[1] \"2022-02-19 01:19:35 CST\"\n"
     ]
    },
    {
     "name": "stderr",
     "output_type": "stream",
     "text": [
      "Getting VDJ GEX stats \n",
      "\n",
      "\n",
      "Starting with 1 of 2...\n",
      "\n",
      "\n",
      "Getting lookup tables... \n",
      "\n",
      "\n",
      "Starting with 2 of 2...\n",
      "\n",
      "\n",
      "Getting lookup tables... \n",
      "\n",
      "\n",
      "Getting 10x stats \n",
      "\n",
      "\n",
      "Done with VDJ_GEX_stats \n",
      "\n",
      "\n",
      "Got VDJ GEX stats \n",
      "\n",
      "\n"
     ]
    },
    {
     "name": "stdout",
     "output_type": "stream",
     "text": [
      "[1] \"2022-02-19 01:19:37 CST\"\n"
     ]
    },
    {
     "name": "stderr",
     "output_type": "stream",
     "text": [
      "For sample 1: 14247 cell assigned barcodes in GEX, 2160 cell assigned high confidence barcodes in VDJ. Overlap: 2061 \n",
      "\n",
      "\n",
      "For sample 2: 11131 cell assigned barcodes in GEX, 1710 cell assigned high confidence barcodes in VDJ. Overlap: 1678 \n",
      "\n",
      "\n",
      "Removed a total of 217 cells with non unique barcodes in GEX \n",
      "\n",
      "\n",
      "Removed a total of 3 cells with non unique barcodes in VDJ \n",
      "\n",
      "\n",
      "In GEX sample 1 excluded 5039 cells based on CD3G>0 \n",
      "\n",
      "\n",
      "In GEX sample 1 excluded 92 cells based on CD3E>0 \n",
      "\n",
      "\n",
      "In GEX sample 1 excluded 7452 cells based on CD4>0 \n",
      "\n",
      "\n",
      "In GEX sample 1 excluded 1230 cells based on CD8A>0 \n",
      "\n",
      "\n",
      "In GEX sample 1 failed to exclude cells based on: CD8B1>0 Please check gene spelling \n",
      "\n",
      "\n",
      "In GEX sample 1 excluded 215 cells based on C1QA>0 \n",
      "\n",
      "\n",
      "In GEX sample 1 excluded 1 cells based on C1QB>0 \n",
      "\n",
      "\n",
      "In GEX sample 1 failed to exclude cells based on: RORA>0 Please check gene spelling \n",
      "\n",
      "\n",
      "In GEX sample 1 excluded 0 cells based on NKG7>0 \n",
      "\n",
      "\n",
      "In GEX sample 2 excluded 4842 cells based on CD3G>0 \n",
      "\n",
      "\n",
      "In GEX sample 2 excluded 65 cells based on CD3E>0 \n",
      "\n",
      "\n",
      "In GEX sample 2 excluded 4379 cells based on CD4>0 \n",
      "\n",
      "\n",
      "In GEX sample 2 excluded 1471 cells based on CD8A>0 \n",
      "\n",
      "\n",
      "In GEX sample 2 failed to exclude cells based on: CD8B1>0 Please check gene spelling \n",
      "\n",
      "\n",
      "In GEX sample 2 excluded 156 cells based on C1QA>0 \n",
      "\n",
      "\n",
      "In GEX sample 2 failed to exclude cells based on: C1QB>0 Please check gene spelling \n",
      "\n",
      "\n",
      "In GEX sample 2 failed to exclude cells based on: RORA>0 Please check gene spelling \n",
      "\n",
      "\n",
      "In GEX sample 2 failed to exclude cells based on: NKG7>0 Please check gene spelling \n",
      "\n",
      "\n",
      "Starting VDJ barcode iteration 1 of 2...\n",
      "\n",
      "\n"
     ]
    },
    {
     "name": "stdout",
     "output_type": "stream",
     "text": [
      "[1] \"2022-02-19 01:19:50 CST\"\n"
     ]
    },
    {
     "name": "stderr",
     "output_type": "stream",
     "text": [
      "Started mcapply cluster with 40 cores \n",
      "\n",
      "\n",
      "Done with 1 of 2 \n",
      "\n",
      "\n",
      "2022-02-19 01:20:09\n",
      "\n",
      "Starting VDJ barcode iteration 2 of 2...\n",
      "\n",
      "\n"
     ]
    },
    {
     "name": "stdout",
     "output_type": "stream",
     "text": [
      "[1] \"2022-02-19 01:20:09 CST\"\n"
     ]
    },
    {
     "name": "stderr",
     "output_type": "stream",
     "text": [
      "Started mcapply cluster with 40 cores \n",
      "\n",
      "\n",
      "Done with 2 of 2 \n",
      "\n",
      "\n",
      "2022-02-19 01:20:20\n",
      "\n",
      "Starting GEX pipeline \n",
      "\n",
      "\n",
      "Integrating GEX matrices using the default scale.data function. Other options are 'sct', 'anchors' (recommended in case of batch effects) and 'harmony' (recommended for large datasets) \n",
      "\n",
      "\n"
     ]
    },
    {
     "ename": "ERROR",
     "evalue": "Error in names(new.idents) <- rownames(x = combined.meta.data): 'names' attribute [4] must be the same length as the vector [2]\n",
     "output_type": "error",
     "traceback": [
      "Error in names(new.idents) <- rownames(x = combined.meta.data): 'names' attribute [4] must be the same length as the vector [2]\nTraceback:\n",
      "1. VDJ_GEX_matrix(VDJ.out.directory.list = VDJ.out.directory.list_B, \n .     GEX.out.directory.list = GEX.out.directory.list, exclude.on.cell.state.markers = c(\"CD3G+\", \n .         \"CD3E+\", \"CD4+\", \"CD8A+\", \"CD8B1+\", \"C1QA+\", \"C1QB+\", \n .         \"RORA+\", \"NKG7+\"), group.id = c(\"WYF\", \"ZS\"), trim.and.align = T, \n .     parallel.processing = \"mclapply\")",
      "2. GEX_automate_single(GEX.list = gex.list, GEX.integrate = GEX.integrate, \n .     integration.method = integration.method, VDJ.gene.filter = VDJ.gene.filter, \n .     mito.filter = mito.filter, norm.scale.factor = norm.scale.factor, \n .     n.feature.rna = n.feature.rna, n.count.rna.min = n.count.rna.min, \n .     n.count.rna.max = n.count.rna.max, n.variable.features = n.variable.features, \n .     cluster.resolution = cluster.resolution, neighbor.dim = neighbor.dim, \n .     mds.dim = mds.dim, group.id = group.id, verbose = verbose)",
      "3. merge(GEX.merged, y = GEX.list[[i]], add.cell.ids = c(\"\", \"\"))",
      "4. merge.Seurat(GEX.merged, y = GEX.list[[i]], add.cell.ids = c(\"\", \n .     \"\"))"
     ]
    }
   ],
   "source": [
    "\n",
    "VDJ.out.directory.list_B <- list()\n",
    "VDJ.out.directory.list_B[[1]] <- c(\"/rd2/user/xiacr/teamwork/sle/data/xiehe/batch6_7_27/raw_data/vdj_wyf_bcr/outs/\") # WYF\n",
    "VDJ.out.directory.list_B[[2]] <- c(\"/rd2/user/xiacr/teamwork/sle/data/xiehe/batch6_7_27/raw_data/vdj_zs_bcr/outs/\") # ZS\n",
    "\n",
    "GEX.out.directory.list <- list()\n",
    "GEX.out.directory.list[[1]] <- c(\"/rd2/user/xiacr/teamwork/sle/data/xiehe/batch6_7_27/raw_data/count_wyf_count/outs/\") # WYF \n",
    "GEX.out.directory.list[[2]] <- c(\"/rd2/user/xiacr/teamwork/sle/data/xiehe/batch6_7_27/raw_data/count_zs_count/outs/\") # ZS\n",
    "\n",
    "vgm_b <- VDJ_GEX_matrix(VDJ.out.directory.list = VDJ.out.directory.list_B,                         \n",
    "                        GEX.out.directory.list = GEX.out.directory.list,\n",
    "                        exclude.on.cell.state.markers = c(\"CD3G+\", \"CD3E+\", \"CD4+\",\n",
    "                                                          \"CD8A+\",\"CD8B1+\",\"C1QA+\",\n",
    "                                                          \"C1QB+\",\"RORA+\",\"NKG7+\"),\n",
    "                        #Strict filtering to achieve best possible clustering of B cells\n",
    "                        group.id = c(\"WYF\",\"ZS\"), trim.and.align = T,\n",
    "                        parallel.processing  ='mclapply') \n",
    "saveRDS(vgm_b,\"EAE_vgm_b.rds\")"
   ]
  },
  {
   "cell_type": "code",
   "execution_count": 13,
   "id": "d93874db-cb31-42ca-9398-d5c5b70220d0",
   "metadata": {},
   "outputs": [
    {
     "data": {
      "text/html": [
       "'list'"
      ],
      "text/latex": [
       "'list'"
      ],
      "text/markdown": [
       "'list'"
      ],
      "text/plain": [
       "[1] \"list\""
      ]
     },
     "metadata": {},
     "output_type": "display_data"
    }
   ],
   "source": [
    "EAE_Bcells %>% class()"
   ]
  },
  {
   "cell_type": "code",
   "execution_count": null,
   "id": "f0a3d281-cd92-4cf8-a4ea-b03418f5e15a",
   "metadata": {},
   "outputs": [],
   "source": [
    "EAE_Bcells[[1]] %>% head()"
   ]
  },
  {
   "cell_type": "code",
   "execution_count": 9,
   "id": "f09f1660-f095-4caf-9aac-5ce5f8dee40a",
   "metadata": {},
   "outputs": [
    {
     "name": "stderr",
     "output_type": "stream",
     "text": [
      "2022-02-19 01:26:30: Starting download of kreiner2021b_EAE.MOG35.Bcell.S3_VDJ.RData...\n",
      "\n",
      "2022-02-19 01:26:32: Starting download of kreiner2021b_EAE.MOG35.Bcell.S3_GEX.RData...\n",
      "\n",
      "2022-02-19 01:26:37: Starting download of kreiner2021b_EAE.rMOG.Bcell.S1_VDJ.RData...\n",
      "\n",
      "2022-02-19 01:26:39: Starting download of kreiner2021b_EAE.rMOG.Bcell.S1_GEX.RData...\n",
      "\n",
      "2022-02-19 01:26:44: Starting download of kreiner2021b_EAE.rMOGs.Bcell.S2_VDJ.RData...\n",
      "\n",
      "2022-02-19 01:26:47: Starting download of kreiner2021b_EAE.rMOGs.Bcell.S2_GEX.RData...\n",
      "\n"
     ]
    }
   ],
   "source": [
    "EAE_Bcells <- PlatypusDB_fetch(\n",
    "              PlatypusDB.links = c(\"kreiner2021b/ALL/ALL\"),\n",
    "              save.to.disk = F, \n",
    "              load.to.enviroment = F, \n",
    "              load.to.list = T, \n",
    "              combine.objects = T)"
   ]
  },
  {
   "cell_type": "code",
   "execution_count": 11,
   "id": "1756fbc0-3a27-42a1-ad78-cff289722739",
   "metadata": {},
   "outputs": [
    {
     "name": "stderr",
     "output_type": "stream",
     "text": [
      "Loading in data \n",
      "\n",
      "\n",
      "2022-02-19 01:29:20\n",
      "\n",
      "Loaded VDJ data from Data.in \n",
      "\n",
      "\n"
     ]
    },
    {
     "name": "stdout",
     "output_type": "stream",
     "text": [
      "[1] \"2022-02-19 01:29:20 CST\"\n"
     ]
    },
    {
     "name": "stderr",
     "output_type": "stream",
     "text": [
      "Loaded GEX data from Data.in \n",
      "\n",
      "\n",
      "2022-02-19 01:29:21\n",
      "\n",
      "Warning message:\n",
      "“Feature names cannot have underscores ('_'), replacing with dashes ('-')”\n",
      "Warning message:\n",
      "“Feature names cannot have underscores ('_'), replacing with dashes ('-')”\n",
      "Warning message:\n",
      "“Feature names cannot have underscores ('_'), replacing with dashes ('-')”\n",
      "Loaded FB data from data.in \n",
      "\n",
      "\n"
     ]
    },
    {
     "name": "stdout",
     "output_type": "stream",
     "text": [
      "[1] \"2022-02-19 01:29:21 CST\"\n"
     ]
    },
    {
     "name": "stderr",
     "output_type": "stream",
     "text": [
      "Getting VDJ GEX stats \n",
      "\n",
      "\n",
      "Starting with 1 of 3...\n",
      "\n",
      "\n",
      "Getting lookup tables... \n",
      "\n",
      "\n",
      "Starting with 2 of 3...\n",
      "\n",
      "\n",
      "Getting lookup tables... \n",
      "\n",
      "\n",
      "Starting with 3 of 3...\n",
      "\n",
      "\n",
      "Getting lookup tables... \n",
      "\n",
      "\n",
      "Getting 10x stats \n",
      "\n",
      "\n",
      "Done with VDJ_GEX_stats \n",
      "\n",
      "\n",
      "Got VDJ GEX stats \n",
      "\n",
      "\n"
     ]
    },
    {
     "name": "stdout",
     "output_type": "stream",
     "text": [
      "[1] \"2022-02-19 01:29:24 CST\"\n"
     ]
    },
    {
     "name": "stderr",
     "output_type": "stream",
     "text": [
      "For sample 1: 2650 cell assigned barcodes in GEX, 1524 cell assigned high confidence barcodes in VDJ. Overlap: 844 \n",
      "\n",
      "\n",
      "For sample 2: 4461 cell assigned barcodes in GEX, 3371 cell assigned high confidence barcodes in VDJ. Overlap: 1014 \n",
      "\n",
      "\n",
      "For sample 3: 2323 cell assigned barcodes in GEX, 1348 cell assigned high confidence barcodes in VDJ. Overlap: 389 \n",
      "\n",
      "\n",
      "Removed a total of 174 cells with non unique barcodes in GEX \n",
      "\n",
      "\n",
      "Removed a total of 874 cells with non unique barcodes in VDJ \n",
      "\n",
      "\n",
      "In GEX sample 1 excluded 1380 cells based on CD3G>0 \n",
      "\n",
      "\n",
      "In GEX sample 1 excluded 155 cells based on CD3E>0 \n",
      "\n",
      "\n",
      "In GEX sample 1 excluded 24 cells based on CD4>0 \n",
      "\n",
      "\n",
      "In GEX sample 1 excluded 8 cells based on CD8A>0 \n",
      "\n",
      "\n",
      "In GEX sample 1 excluded 17 cells based on CD8B1>0 \n",
      "\n",
      "\n",
      "In GEX sample 1 excluded 81 cells based on C1QA>0 \n",
      "\n",
      "\n",
      "In GEX sample 1 excluded 9 cells based on C1QB>0 \n",
      "\n",
      "\n",
      "In GEX sample 1 excluded 34 cells based on RORA>0 \n",
      "\n",
      "\n",
      "In GEX sample 1 excluded 31 cells based on NKG7>0 \n",
      "\n",
      "\n",
      "In GEX sample 2 excluded 2500 cells based on CD3G>0 \n",
      "\n",
      "\n",
      "In GEX sample 2 excluded 325 cells based on CD3E>0 \n",
      "\n",
      "\n",
      "In GEX sample 2 excluded 32 cells based on CD4>0 \n",
      "\n",
      "\n",
      "In GEX sample 2 excluded 59 cells based on CD8A>0 \n",
      "\n",
      "\n",
      "In GEX sample 2 excluded 121 cells based on CD8B1>0 \n",
      "\n",
      "\n",
      "In GEX sample 2 excluded 167 cells based on C1QA>0 \n",
      "\n",
      "\n",
      "In GEX sample 2 excluded 34 cells based on C1QB>0 \n",
      "\n",
      "\n",
      "In GEX sample 2 excluded 53 cells based on RORA>0 \n",
      "\n",
      "\n",
      "In GEX sample 2 excluded 73 cells based on NKG7>0 \n",
      "\n",
      "\n",
      "In GEX sample 3 excluded 1574 cells based on CD3G>0 \n",
      "\n",
      "\n",
      "In GEX sample 3 excluded 126 cells based on CD3E>0 \n",
      "\n",
      "\n",
      "In GEX sample 3 excluded 17 cells based on CD4>0 \n",
      "\n",
      "\n",
      "In GEX sample 3 excluded 5 cells based on CD8A>0 \n",
      "\n",
      "\n",
      "In GEX sample 3 excluded 4 cells based on CD8B1>0 \n",
      "\n",
      "\n",
      "In GEX sample 3 excluded 81 cells based on C1QA>0 \n",
      "\n",
      "\n",
      "In GEX sample 3 excluded 10 cells based on C1QB>0 \n",
      "\n",
      "\n",
      "In GEX sample 3 excluded 21 cells based on RORA>0 \n",
      "\n",
      "\n",
      "In GEX sample 3 excluded 14 cells based on NKG7>0 \n",
      "\n",
      "\n",
      "Starting VDJ barcode iteration 1 of 3...\n",
      "\n",
      "\n"
     ]
    },
    {
     "name": "stdout",
     "output_type": "stream",
     "text": [
      "[1] \"2022-02-19 01:29:31 CST\"\n"
     ]
    },
    {
     "name": "stderr",
     "output_type": "stream",
     "text": [
      "Done with 1 of 3 \n",
      "\n",
      "\n",
      "2022-02-19 01:29:37\n",
      "\n",
      "Starting VDJ barcode iteration 2 of 3...\n",
      "\n",
      "\n"
     ]
    },
    {
     "name": "stdout",
     "output_type": "stream",
     "text": [
      "[1] \"2022-02-19 01:29:37 CST\"\n"
     ]
    },
    {
     "name": "stderr",
     "output_type": "stream",
     "text": [
      "Done with 2 of 3 \n",
      "\n",
      "\n",
      "2022-02-19 01:30:01\n",
      "\n",
      "Starting VDJ barcode iteration 3 of 3...\n",
      "\n",
      "\n"
     ]
    },
    {
     "name": "stdout",
     "output_type": "stream",
     "text": [
      "[1] \"2022-02-19 01:30:01 CST\"\n"
     ]
    },
    {
     "name": "stderr",
     "output_type": "stream",
     "text": [
      "Done with 3 of 3 \n",
      "\n",
      "\n",
      "2022-02-19 01:30:05\n",
      "\n",
      "Starting GEX pipeline \n",
      "\n",
      "\n",
      "Integrating GEX matrices using the default scale.data function. Other options are 'sct', 'anchors' (recommended in case of batch effects) and 'harmony' (recommended for large datasets) \n",
      "\n",
      "\n",
      "Centering and scaling data matrix\n",
      "\n",
      "PC_ 1 \n",
      "Positive:  CD14, FCER1G, IER3, LYZ2, CLEC4E, PLA2G7, TGFBI, FCGR3, CHIL3, F10 \n",
      "\t   IL1B, MS4A6D, TLR2, CSF1R, TNFRSF1A, LY6I, LILRB4A, APP, CCL6, IL1RN \n",
      "\t   C3, ALOX5AP, IFITM3, C5AR1, CCR1, CD68, TGM2, IFITM2, SLC16A3, ITGAM \n",
      "Negative:  CCR7, LY6D, AFF3, GM30211, PDE3B, IMMP2L, MZB1, KCNQ5, DOCK2, MAN1A \n",
      "\t   ARAP2, INPP4B, TCF12, ST8SIA4, LRRK2, GM26917, TMEM163, FRYL, CBLB, FCER2A \n",
      "\t   VPREB3, CD83, CACNA1E, ST6GAL1, BTLA, PRIM2, DMXL1, 4933406I18RIK, CELF2, TNFRSF13C \n",
      "PC_ 2 \n",
      "Positive:  DOCK2, LNCPINT, PDE3B, AFF3, IMMP2L, TCF12, RUNX1, CBLB, FYN, FRYL \n",
      "\t   CD86, SIK3, INPP4B, SIPA1L1, AKT3, XYLT1, PHLPP1, TRPS1, MAN1A, ZSWIM6 \n",
      "\t   SPAG9, CACNA1E, ANKRD17, ST8SIA4, KCNQ5, MAML2, MYO1E, MALT1, EXOC4, JARID2 \n",
      "Negative:  RPL32, RPL39, RPL41, RPS26, RPS11, RPS27A, RPLP1, RPLP0, RPSA, RPL28 \n",
      "\t   EEF1A1, RPS12, RPS2, RPS18, RPL10A, TMSB4X, RPL3, TMSB10, PFN1, FTL1 \n",
      "\t   FTH1, ACTB, RPL22L1, EIF5A, NME2, CALM1, NPM1, ACTG1, H2AFZ, HSPA8 \n",
      "PC_ 3 \n",
      "Positive:  ITM2A, LY6C1, ESAM, CRIP2, CD34, ABCB1A, SPOCK2, SPARC, RAMP2, CLDN5 \n",
      "\t   SLCO1A4, CCDC141, SLCO1C1, EGFL7, KANK3, ENG, ADGRL4, FAM13C, EPAS1, SLC9A3R2 \n",
      "\t   STRA6, FOXQ1, TM4SF1, FLT1, B4GALT4, TSC22D1, PLSCR4, GAS6, ABCG2, CDH5 \n",
      "Negative:  CLEC4E, CD14, CHIL3, LYZ2, FCGR3, PLA2G7, F10, FCER1G, CSF1R, CCR1 \n",
      "\t   CD52, LY6I, MS4A6D, TGFBI, LILRB4A, HP, C5AR1, TLR2, SLC16A3, CCL6 \n",
      "\t   ALOX5AP, CLEC4D, TYROBP, GDA, IL1RN, CLEC4N, C3, ACOD1, ITGAM, CXCL2 \n",
      "PC_ 4 \n",
      "Positive:  CXCL2, CLEC4D, CHIL3, CCL3, S100A8, C5AR1, CCL5, PLIN2, ACOD1, PYGL \n",
      "\t   SLC7A11, SGMS2, GSR, F10, HP, CSF3R, HCAR2, SLFN1, CLEC4E, C3 \n",
      "\t   IER3, BST1, IL7R, GM2682, MS4A4B, MYO1F, ITK, LCN2, ARG2, MMP8 \n",
      "Negative:  RFTN1, SOX5, FCRL5, SWAP70, CD83, IFI30, GPR137B, RILPL2, MZB1, PLSCR1 \n",
      "\t   TENT5C, CD80, AHR, LY6A, GEM, BCAR3, TCF4, CD274, CTSZ, ATXN1 \n",
      "\t   GM15987, SH3BP5, IRF4, NFATC1, MYC, CELF2, DNAJC7, CTSC, ANKRD33B, LY6D \n",
      "PC_ 5 \n",
      "Positive:  MS4A4B, FYB, RAMP3, RUNX2, GPR141, IFITM1, MS4A6B, CD247, IFITM2, PTPRO \n",
      "\t   ITK, SLCO3A1, ST3GAL4, CCR2, CD6, CTSW, CD28, CD209A, IL7R, KLRK1 \n",
      "\t   KLRD1, GM2682, CD3D, LCP2, SERPINB9, SKAP1, CCND2, CD7, UST, IL2RB \n",
      "Negative:  ARG1, APOC2, MAFB, MMP14, F10, APOE, TNFSF12, F13A1, C3AR1, INHBA \n",
      "\t   CFB, GPNMB, CXCL2, 4930430E12RIK, LY6D, SPP1, PDPN, FNIP2, C3, HK3 \n",
      "\t   BST1, SLC7A2, F7, CHIL3, FABP5, TREM2, SLC7A8, ANPEP, DAPK1, IL1A \n",
      "\n",
      "Computing nearest neighbor graph\n",
      "\n",
      "Computing SNN\n",
      "\n"
     ]
    },
    {
     "name": "stdout",
     "output_type": "stream",
     "text": [
      "Modularity Optimizer version 1.3.0 by Ludo Waltman and Nees Jan van Eck\n",
      "\n",
      "Number of nodes: 2047\n",
      "Number of edges: 69288\n",
      "\n",
      "Running Louvain algorithm...\n",
      "Maximum modularity in 10 random starts: 0.8389\n",
      "Number of communities: 7\n",
      "Elapsed time: 0 seconds\n"
     ]
    },
    {
     "name": "stderr",
     "output_type": "stream",
     "text": [
      "Warning message:\n",
      "“The default method for RunUMAP has changed from calling Python UMAP via reticulate to the R-native UWOT using the cosine metric\n",
      "To use Python UMAP via reticulate, set umap.method to 'umap-learn' and metric to 'correlation'\n",
      "This message will be shown once per session”\n",
      "01:30:16 UMAP embedding parameters a = 0.9922 b = 1.112\n",
      "\n",
      "01:30:16 Read 2047 rows and found 10 numeric columns\n",
      "\n",
      "01:30:16 Using Annoy for neighbor search, n_neighbors = 30\n",
      "\n",
      "01:30:16 Building Annoy index with metric = cosine, n_trees = 50\n",
      "\n",
      "0%   10   20   30   40   50   60   70   80   90   100%\n",
      "\n",
      "[----|----|----|----|----|----|----|----|----|----|\n",
      "\n",
      "*\n",
      "*\n",
      "*\n",
      "*\n",
      "*\n",
      "*\n",
      "*\n",
      "*\n",
      "*\n",
      "*\n",
      "*\n",
      "*\n",
      "*\n",
      "*\n",
      "*\n",
      "*\n",
      "*\n",
      "*\n",
      "*\n",
      "*\n",
      "*\n",
      "*\n",
      "*\n",
      "*\n",
      "*\n",
      "*\n",
      "*\n",
      "*\n",
      "*\n",
      "*\n",
      "*\n",
      "*\n",
      "*\n",
      "*\n",
      "*\n",
      "*\n",
      "*\n",
      "*\n",
      "*\n",
      "*\n",
      "*\n",
      "*\n",
      "*\n",
      "*\n",
      "*\n",
      "*\n",
      "*\n",
      "*\n",
      "*\n",
      "*\n",
      "|\n",
      "\n",
      "01:30:16 Writing NN index file to temp file /tmp/RtmpxW8qG7/file13cce12158a7a4\n",
      "\n",
      "01:30:16 Searching Annoy index using 1 thread, search_k = 3000\n",
      "\n",
      "01:30:17 Annoy recall = 100%\n",
      "\n",
      "01:30:17 Commencing smooth kNN distance calibration using 1 thread\n",
      "\n",
      "01:30:17 1 smooth knn distance failures\n",
      "\n",
      "01:30:18 Initializing from normalized Laplacian + noise\n",
      "\n",
      "01:30:18 Commencing optimization for 500 epochs, with 83254 positive edges\n",
      "\n",
      "01:30:21 Optimization finished\n",
      "\n",
      "Done with GEX pipeline \n",
      "\n",
      "\n"
     ]
    },
    {
     "name": "stdout",
     "output_type": "stream",
     "text": [
      "[1] \"2022-02-19 01:30:29 CST\"\n"
     ]
    },
    {
     "name": "stderr",
     "output_type": "stream",
     "text": [
      "Starting FB processing... \n",
      "\n",
      "\n",
      "For GEX/VDJ input 1 no FB data was loaded. In output FB_assignment column cells of this sampled are labelled 'Not assignable' \n",
      "\n",
      "\n",
      "For GEX/VDJ input 2 no FB data was loaded. In output FB_assignment column cells of this sampled are labelled 'Not assignable' \n",
      "\n",
      "\n",
      "For GEX/VDJ input 3 no FB data was loaded. In output FB_assignment column cells of this sampled are labelled 'Not assignable' \n",
      "\n",
      "\n",
      "Got FB assignment to cell barcodes \n",
      "\n",
      "\n",
      "Adding Feature barcode information to GEX... \n",
      "\n",
      "\n",
      "Adding Feature barcode information to VDJ... \n",
      "\n",
      "\n",
      "Integrating VDJ and GEX...\n",
      "\n",
      "\n",
      "Adding VDJ stats...\n",
      "\n",
      "\n",
      "Adding runtime params...\n",
      "\n",
      "\n",
      "Done!\n",
      "\n",
      "2022-02-19 01:30:30\n",
      "\n"
     ]
    }
   ],
   "source": [
    "vgm_b <- VDJ_GEX_matrix(Data.in = EAE_Bcells,\n",
    "                        exclude.on.cell.state.markers = c(\"CD3G+\", \"CD3E+\", \"CD4+\", \"CD8A+\",\"CD8B1+\",\"C1QA+\",\"C1QB+\",\"RORA+\",\"NKG7+\"), #Strict filtering to achieve best possible clustering of B cells\n",
    "                       group.id = c(\"rMOG\",\"rMOG\",\"MOG35-55\")) "
   ]
  },
  {
   "cell_type": "code",
   "execution_count": 7,
   "id": "277d683c-76e2-484d-91a7-b328fd42834e",
   "metadata": {
    "tags": []
   },
   "outputs": [
    {
     "data": {
      "text/plain": [
       "R version 4.1.1 (2021-08-10)\n",
       "Platform: x86_64-pc-linux-gnu (64-bit)\n",
       "Running under: Ubuntu 20.04.1 LTS\n",
       "\n",
       "Matrix products: default\n",
       "BLAS:   /home/xiacr/software/R/R-4.1.1/lib/R/lib/libRblas.so\n",
       "LAPACK: /home/xiacr/software/R/R-4.1.1/lib/R/lib/libRlapack.so\n",
       "\n",
       "locale:\n",
       " [1] LC_CTYPE=en_US.UTF-8       LC_NUMERIC=C              \n",
       " [3] LC_TIME=en_US.UTF-8        LC_COLLATE=en_US.UTF-8    \n",
       " [5] LC_MONETARY=zh_CN.UTF-8    LC_MESSAGES=en_US.UTF-8   \n",
       " [7] LC_PAPER=zh_CN.UTF-8       LC_NAME=C                 \n",
       " [9] LC_ADDRESS=C               LC_TELEPHONE=C            \n",
       "[11] LC_MEASUREMENT=zh_CN.UTF-8 LC_IDENTIFICATION=C       \n",
       "\n",
       "attached base packages:\n",
       "[1] stats     graphics  grDevices utils     datasets  methods   base     \n",
       "\n",
       "other attached packages:\n",
       " [1] igraph_1.2.10      ggrepel_0.9.1      pals_1.7           scales_1.1.1      \n",
       " [5] forcats_0.5.1      stringr_1.4.0      dplyr_1.0.7        purrr_0.3.4       \n",
       " [9] readr_2.1.1        tidyr_1.1.4        tibble_3.1.6       ggplot2_3.3.5     \n",
       "[13] tidyverse_1.3.1    Platypus_3.3.2     SeuratObject_4.0.4 Seurat_4.0.5      \n",
       "\n",
       "loaded via a namespace (and not attached):\n",
       "  [1] Rtsne_0.15            colorspace_2.0-2      deldir_1.0-6         \n",
       "  [4] ellipsis_0.3.2        ggridges_0.5.3        IRdisplay_1.0        \n",
       "  [7] fs_1.5.2              base64enc_0.1-3       dichromat_2.0-0      \n",
       " [10] rstudioapi_0.13       spatstat.data_2.1-0   leiden_0.3.9         \n",
       " [13] listenv_0.8.0         lubridate_1.8.0       fansi_0.5.0          \n",
       " [16] xml2_1.3.3            codetools_0.2-18      splines_4.1.1        \n",
       " [19] polyclip_1.10-0       IRkernel_1.2          jsonlite_1.7.2       \n",
       " [22] broom_0.7.10          ica_1.0-2             cluster_2.1.2        \n",
       " [25] dbplyr_2.1.1          png_0.1-7             uwot_0.1.11          \n",
       " [28] shiny_1.7.1           sctransform_0.3.2     spatstat.sparse_2.0-0\n",
       " [31] mapproj_1.2.8         compiler_4.1.1        httr_1.4.2           \n",
       " [34] backports_1.4.1       assertthat_0.2.1      Matrix_1.3-4         \n",
       " [37] fastmap_1.1.0         lazyeval_0.2.2        cli_3.1.0            \n",
       " [40] later_1.3.0           htmltools_0.5.2       tools_4.1.1          \n",
       " [43] gtable_0.3.0          glue_1.5.1            RANN_2.6.1           \n",
       " [46] reshape2_1.4.4        maps_3.4.0            Rcpp_1.0.7           \n",
       " [49] scattermore_0.7       cellranger_1.1.0      vctrs_0.3.8          \n",
       " [52] nlme_3.1-152          lmtest_0.9-39         globals_0.14.0       \n",
       " [55] rvest_1.0.2           mime_0.12             miniUI_0.1.1.1       \n",
       " [58] lifecycle_1.0.1       irlba_2.3.5           goftest_1.2-3        \n",
       " [61] future_1.23.0         MASS_7.3-54           zoo_1.8-9            \n",
       " [64] spatstat.core_2.3-2   hms_1.1.1             promises_1.2.0.1     \n",
       " [67] spatstat.utils_2.3-0  parallel_4.1.1        RColorBrewer_1.1-2   \n",
       " [70] reticulate_1.22       pbapply_1.5-0         gridExtra_2.3        \n",
       " [73] rpart_4.1-15          stringi_1.7.6         repr_1.1.3.9000      \n",
       " [76] rlang_0.4.12          pkgconfig_2.0.3       matrixStats_0.61.0   \n",
       " [79] evaluate_0.14         lattice_0.20-44       ROCR_1.0-11          \n",
       " [82] tensor_1.5            patchwork_1.1.1       htmlwidgets_1.5.4    \n",
       " [85] cowplot_1.1.1         tidyselect_1.1.1      parallelly_1.29.0    \n",
       " [88] RcppAnnoy_0.0.19      plyr_1.8.6            magrittr_2.0.1       \n",
       " [91] R6_2.5.1              generics_0.1.1        pbdZMQ_0.3-6         \n",
       " [94] DBI_1.1.1             withr_2.4.3           pillar_1.6.4         \n",
       " [97] haven_2.4.3           mgcv_1.8-36           fitdistrplus_1.1-6   \n",
       "[100] survival_3.2-11       abind_1.4-5           future.apply_1.8.1   \n",
       "[103] modelr_0.1.8          crayon_1.4.2          uuid_1.0-3           \n",
       "[106] KernSmooth_2.23-20    utf8_1.2.2            spatstat.geom_2.3-1  \n",
       "[109] plotly_4.10.0         tzdb_0.2.0            readxl_1.3.1         \n",
       "[112] grid_4.1.1            data.table_1.14.2     reprex_2.0.1         \n",
       "[115] digest_0.6.29         xtable_1.8-4          httpuv_1.6.4         \n",
       "[118] munsell_0.5.0         viridisLite_0.4.0    "
      ]
     },
     "metadata": {},
     "output_type": "display_data"
    }
   ],
   "source": [
    "sessionInfo()"
   ]
  }
 ],
 "metadata": {
  "kernelspec": {
   "display_name": "R 4.1.1 compile",
   "language": "R",
   "name": "r411compile"
  },
  "language_info": {
   "codemirror_mode": "r",
   "file_extension": ".r",
   "mimetype": "text/x-r-source",
   "name": "R",
   "pygments_lexer": "r",
   "version": "4.1.1"
  }
 },
 "nbformat": 4,
 "nbformat_minor": 5
}
