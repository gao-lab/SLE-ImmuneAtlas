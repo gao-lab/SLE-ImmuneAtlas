{
 "cells": [
  {
   "cell_type": "code",
   "execution_count": 1,
   "id": "dcbc10ef-b3c1-4061-96ae-0abf41050a89",
   "metadata": {},
   "outputs": [
    {
     "name": "stderr",
     "output_type": "stream",
     "text": [
      "Loading required package: ggplot2\n",
      "\n",
      "As of v1.0.0 the AIRR Rearrangement schema is now the default file format.\n",
      "A description of the standard is available at https://docs.airr-community.org.\n",
      "The legacy Change-O format is supported through arguments to each function\n",
      "that allow the input column names to be explicitly defined.\n",
      "\n",
      "── \u001b[1mAttaching packages\u001b[22m ───────────────────────────────────────────────────────────────────────────────────────────────────────────────────────────────────────────────────────────────────────── tidyverse 1.3.1 ──\n",
      "\n",
      "\u001b[32m✔\u001b[39m \u001b[34mtibble \u001b[39m 3.1.6     \u001b[32m✔\u001b[39m \u001b[34mdplyr  \u001b[39m 1.0.7\n",
      "\u001b[32m✔\u001b[39m \u001b[34mtidyr  \u001b[39m 1.1.4     \u001b[32m✔\u001b[39m \u001b[34mstringr\u001b[39m 1.4.0\n",
      "\u001b[32m✔\u001b[39m \u001b[34mreadr  \u001b[39m 2.1.1     \u001b[32m✔\u001b[39m \u001b[34mforcats\u001b[39m 0.5.1\n",
      "\u001b[32m✔\u001b[39m \u001b[34mpurrr  \u001b[39m 0.3.4     \n",
      "\n",
      "── \u001b[1mConflicts\u001b[22m ──────────────────────────────────────────────────────────────────────────────────────────────────────────────────────────────────────────────────────────────────────────── tidyverse_conflicts() ──\n",
      "\u001b[31m✖\u001b[39m \u001b[34mdplyr\u001b[39m::\u001b[32mfilter()\u001b[39m masks \u001b[34mstats\u001b[39m::filter()\n",
      "\u001b[31m✖\u001b[39m \u001b[34mdplyr\u001b[39m::\u001b[32mlag()\u001b[39m    masks \u001b[34mstats\u001b[39m::lag()\n",
      "\n"
     ]
    }
   ],
   "source": [
    "library(shazam)\n",
    "library(tidyverse)"
   ]
  },
  {
   "cell_type": "code",
   "execution_count": 6,
   "id": "316765a7-7c10-49c1-8371-e4fdb64f2461",
   "metadata": {},
   "outputs": [],
   "source": [
    "# ----------------------- read data ---------------------------\n",
    "sample <- read.csv('./data//GW/light_parse-select.tsv', header=T, sep='\\t')  %>% as.tibble()\n",
    "\n",
    "\n",
    "# --------------------- remove duplicate -----------------------\n",
    "sample_index <- sample %>% group_by(cell_id) %>% summarise(umi_count=max(umi_count)) \n",
    "sample_filter <- sample[which(paste0(sample$cell_id,sample$umi_count) %in% paste0(sample_index$cell_id,sample_index$umi_count) ),]\n",
    "# sample_filter %>% dim()\n",
    "\n",
    "dup_index <- (table(sample_filter$cell_id) >1) %>% as.data.frame() %>% filter(.== TRUE) %>% rownames()\n",
    "sample_single <-sample_filter[ !sample_filter$cell_id %in% dup_index, ]"
   ]
  },
  {
   "cell_type": "code",
   "execution_count": 7,
   "id": "bf0a6f64-46d9-4d1a-a72e-07ca8d692f5e",
   "metadata": {},
   "outputs": [
    {
     "data": {
      "text/html": [
       "<style>\n",
       ".list-inline {list-style: none; margin:0; padding: 0}\n",
       ".list-inline>li {display: inline-block}\n",
       ".list-inline>li:not(:last-child)::after {content: \"\\00b7\"; padding: 0 .5ex}\n",
       "</style>\n",
       "<ol class=list-inline><li>6081</li><li>57</li></ol>\n"
      ],
      "text/latex": [
       "\\begin{enumerate*}\n",
       "\\item 6081\n",
       "\\item 57\n",
       "\\end{enumerate*}\n"
      ],
      "text/markdown": [
       "1. 6081\n",
       "2. 57\n",
       "\n",
       "\n"
      ],
      "text/plain": [
       "[1] 6081   57"
      ]
     },
     "metadata": {},
     "output_type": "display_data"
    },
    {
     "data": {
      "text/html": [
       "<style>\n",
       ".list-inline {list-style: none; margin:0; padding: 0}\n",
       ".list-inline>li {display: inline-block}\n",
       ".list-inline>li:not(:last-child)::after {content: \"\\00b7\"; padding: 0 .5ex}\n",
       "</style>\n",
       "<ol class=list-inline><li>'TRB'</li><li>'TRB'</li><li>'TRB'</li><li>'TRB'</li><li>'TRB'</li><li>'TRB'</li></ol>\n"
      ],
      "text/latex": [
       "\\begin{enumerate*}\n",
       "\\item 'TRB'\n",
       "\\item 'TRB'\n",
       "\\item 'TRB'\n",
       "\\item 'TRB'\n",
       "\\item 'TRB'\n",
       "\\item 'TRB'\n",
       "\\end{enumerate*}\n"
      ],
      "text/markdown": [
       "1. 'TRB'\n",
       "2. 'TRB'\n",
       "3. 'TRB'\n",
       "4. 'TRB'\n",
       "5. 'TRB'\n",
       "6. 'TRB'\n",
       "\n",
       "\n"
      ],
      "text/plain": [
       "[1] \"TRB\" \"TRB\" \"TRB\" \"TRB\" \"TRB\" \"TRB\""
      ]
     },
     "metadata": {},
     "output_type": "display_data"
    }
   ],
   "source": [
    "dim(sample_single)\n",
    "sample_single$locus %>% head()"
   ]
  },
  {
   "cell_type": "code",
   "execution_count": 8,
   "id": "4eae4288-417f-45f3-a088-850ed48994a4",
   "metadata": {},
   "outputs": [
    {
     "ename": "ERROR",
     "evalue": "Error in is.factor(x): object 'snakemake' not found\n",
     "output_type": "error",
     "traceback": [
      "Error in is.factor(x): object 'snakemake' not found\nTraceback:\n",
      "1. pdf(snakemake@output[[2]])",
      "2. checkIntFormat(file)",
      "3. gsub(\"%%\", \"\", s, fixed = TRUE)",
      "4. is.factor(x)"
     ]
    }
   ],
   "source": [
    "# -------------------- calculate distance -----------------------\n",
    "dist_sc <- distToNearest(sample_single, cellIdColumn=\"cell_id\", locusColumn=\"locus\", VJthenLen=FALSE, onlyHeavy=FALSE, nproc =8)\n",
    "\n",
    "output2 <- findThreshold(dist_sc$dist_nearest, method=\"gmm\", model=\"gamma-gamma\")\n",
    "\n",
    "pdf(snakemake@output[[2]])\n",
    "plot(output2, binwidth=0.02, title=\"GMM Method: gamma-gamma\")\n",
    "dev.off()\n",
    "\n",
    "\n",
    "# -------------------- calculate distance -----------------------\n",
    "distance <- output2@threshold\n",
    "write(distance,snakemake@output[[1]])"
   ]
  }
 ],
 "metadata": {
  "kernelspec": {
   "display_name": "R 4.1.1 compile",
   "language": "R",
   "name": "r411compile"
  },
  "language_info": {
   "codemirror_mode": "r",
   "file_extension": ".r",
   "mimetype": "text/x-r-source",
   "name": "R",
   "pygments_lexer": "r",
   "version": "4.1.1"
  }
 },
 "nbformat": 4,
 "nbformat_minor": 5
}
