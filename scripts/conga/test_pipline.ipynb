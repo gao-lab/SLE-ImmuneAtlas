{
 "cells": [
  {
   "cell_type": "code",
   "execution_count": 1,
   "id": "406ba1e4-8af8-403d-97f5-363ba58f3cf4",
   "metadata": {},
   "outputs": [],
   "source": [
    "import pandas as pd\n",
    "import numpy as np\n",
    "# import snamkemake\n",
    "\n",
    "meta = pd.read_csv(\"./all_sample_meta.csv\")\n",
    "SAMPLES = meta[\"name\"]\n"
   ]
  },
  {
   "cell_type": "code",
   "execution_count": 2,
   "id": "c4454d28-8e21-419d-bf55-075fdba8a934",
   "metadata": {},
   "outputs": [
    {
     "data": {
      "text/plain": [
       "0       XH\n",
       "1       LL\n",
       "2      QJY\n",
       "3      XYY\n",
       "4     ZMY1\n",
       "5       ZH\n",
       "6       GW\n",
       "7      HXR\n",
       "8      WYF\n",
       "9       ZS\n",
       "10     ZPP\n",
       "11    XYY2\n",
       "12     LL2\n",
       "13     LGY\n",
       "14     HXX\n",
       "15    ZPP2\n",
       "16    WYF2\n",
       "17    HXR2\n",
       "18     GZR\n",
       "19     WYY\n",
       "20     MXY\n",
       "21      SQ\n",
       "Name: name, dtype: object"
      ]
     },
     "execution_count": 2,
     "metadata": {},
     "output_type": "execute_result"
    }
   ],
   "source": [
    "SAMPLES"
   ]
  }
 ],
 "metadata": {
  "kernelspec": {
   "display_name": "sle",
   "language": "python",
   "name": "sle"
  },
  "language_info": {
   "codemirror_mode": {
    "name": "ipython",
    "version": 3
   },
   "file_extension": ".py",
   "mimetype": "text/x-python",
   "name": "python",
   "nbconvert_exporter": "python",
   "pygments_lexer": "ipython3",
   "version": "3.8.12"
  }
 },
 "nbformat": 4,
 "nbformat_minor": 5
}
