{
 "cells": [
  {
   "cell_type": "code",
   "execution_count": 1,
   "id": "f68875ad-e615-4d89-a020-529219d88119",
   "metadata": {},
   "outputs": [
    {
     "name": "stderr",
     "output_type": "stream",
     "text": [
      "Loading required package: reticulate\n",
      "\n"
     ]
    }
   ],
   "source": [
    "library(sceasy)"
   ]
  },
  {
   "cell_type": "code",
   "execution_count": 3,
   "id": "f7265d91-f294-40eb-bc41-2bb7081404be",
   "metadata": {},
   "outputs": [],
   "source": [
    "setwd('/rd2/user/xiacr/sle')\n",
    "load('./output_file/seurat/mono_dc/mono_dc_filter_harmony.rdata')"
   ]
  },
  {
   "cell_type": "code",
   "execution_count": 8,
   "id": "daf4ebab-c75c-4d6f-b72a-a24e8aa91fe0",
   "metadata": {},
   "outputs": [],
   "source": [
    "mono_dc_filter@assays$RNA@data <- mono_dc_filter@assays$RNA@counts"
   ]
  },
  {
   "cell_type": "code",
   "execution_count": 9,
   "id": "51875514-f817-4660-887b-5d046059b597",
   "metadata": {},
   "outputs": [
    {
     "data": {
      "text/plain": [
       "AnnData object with n_obs × n_vars = 32317 × 23445\n",
       "    obs: 'orig.ident', 'nCount_RNA', 'nFeature_RNA', 'percent_mito', 'percent_ribo', 'S.Score', 'G2M.Score', 'Phase', 'old.ident', 'RNA_snn_res.1', 'seurat_clusters', 'group', 'treatment', 'pair', 'cell_type', 'RNA_snn_res.0.8', 'subtype'\n",
       "    var: 'vst.mean', 'vst.variance', 'vst.variance.expected', 'vst.variance.standardized', 'vst.variable'\n",
       "    obsm: 'X_pca', 'X_umap', 'X_harmony'"
      ]
     },
     "metadata": {},
     "output_type": "display_data"
    }
   ],
   "source": [
    "sceasy::convertFormat(mono_dc_filter, from=\"seurat\", to=\"anndata\",\n",
    "                       outFile='./output_file/seurat/mono_dc/mono_dc_filter_harmony_sceasy.h5ad')"
   ]
  }
 ],
 "metadata": {
  "kernelspec": {
   "display_name": "R41 4.0.3",
   "language": "R",
   "name": "ir403"
  },
  "language_info": {
   "codemirror_mode": "r",
   "file_extension": ".r",
   "mimetype": "text/x-r-source",
   "name": "R",
   "pygments_lexer": "r",
   "version": "4.0.3"
  }
 },
 "nbformat": 4,
 "nbformat_minor": 5
}
