{
 "cells": [
  {
   "cell_type": "code",
   "execution_count": 2,
   "id": "cd8258d1-d331-449b-bc93-a4c90dfa3eeb",
   "metadata": {},
   "outputs": [],
   "source": [
    "import scanpy as sc\n",
    "import os"
   ]
  },
  {
   "cell_type": "code",
   "execution_count": 15,
   "id": "913530c6-4436-43d4-8920-7d44f9662e16",
   "metadata": {},
   "outputs": [],
   "source": [
    "os.chdir('/rd2/user/xiacr/sle/')"
   ]
  },
  {
   "cell_type": "code",
   "execution_count": 16,
   "id": "6f7f2cc0-70f7-4a00-a4ca-fb463ce9720f",
   "metadata": {},
   "outputs": [],
   "source": [
    "adata = sc.read_h5ad('./output_file/seurat/mono_dc/mono_dc_filter_harmony_sceasy.h5ad')"
   ]
  },
  {
   "cell_type": "code",
   "execution_count": 17,
   "id": "eff6d895-1b9f-47eb-923b-d61a772786f9",
   "metadata": {},
   "outputs": [
    {
     "data": {
      "text/html": [
       "<div>\n",
       "<style scoped>\n",
       "    .dataframe tbody tr th:only-of-type {\n",
       "        vertical-align: middle;\n",
       "    }\n",
       "\n",
       "    .dataframe tbody tr th {\n",
       "        vertical-align: top;\n",
       "    }\n",
       "\n",
       "    .dataframe thead th {\n",
       "        text-align: right;\n",
       "    }\n",
       "</style>\n",
       "<table border=\"1\" class=\"dataframe\">\n",
       "  <thead>\n",
       "    <tr style=\"text-align: right;\">\n",
       "      <th></th>\n",
       "      <th>orig.ident</th>\n",
       "      <th>nCount_RNA</th>\n",
       "      <th>nFeature_RNA</th>\n",
       "      <th>percent_mito</th>\n",
       "      <th>percent_ribo</th>\n",
       "      <th>S.Score</th>\n",
       "      <th>G2M.Score</th>\n",
       "      <th>Phase</th>\n",
       "      <th>old.ident</th>\n",
       "      <th>RNA_snn_res.1</th>\n",
       "      <th>seurat_clusters</th>\n",
       "      <th>group</th>\n",
       "      <th>treatment</th>\n",
       "      <th>pair</th>\n",
       "      <th>cell_type</th>\n",
       "      <th>RNA_snn_res.0.8</th>\n",
       "      <th>subtype</th>\n",
       "    </tr>\n",
       "  </thead>\n",
       "  <tbody>\n",
       "    <tr>\n",
       "      <th>AAACCTGAGCTTCGCG-1_1</th>\n",
       "      <td>GW</td>\n",
       "      <td>6373.0</td>\n",
       "      <td>2098</td>\n",
       "      <td>1.851561</td>\n",
       "      <td>17.966421</td>\n",
       "      <td>0.008174</td>\n",
       "      <td>0.007950</td>\n",
       "      <td>S</td>\n",
       "      <td>1</td>\n",
       "      <td>4</td>\n",
       "      <td>0</td>\n",
       "      <td>SLE</td>\n",
       "      <td>untreated</td>\n",
       "      <td>unpaired</td>\n",
       "      <td>Mono.CD14</td>\n",
       "      <td>0</td>\n",
       "      <td>CD14.Mono</td>\n",
       "    </tr>\n",
       "    <tr>\n",
       "      <th>AAACCTGAGGTGACCA-1_1</th>\n",
       "      <td>GW</td>\n",
       "      <td>2406.0</td>\n",
       "      <td>1136</td>\n",
       "      <td>0.706567</td>\n",
       "      <td>26.350790</td>\n",
       "      <td>-0.026275</td>\n",
       "      <td>-0.029417</td>\n",
       "      <td>G1</td>\n",
       "      <td>0</td>\n",
       "      <td>4</td>\n",
       "      <td>0</td>\n",
       "      <td>SLE</td>\n",
       "      <td>untreated</td>\n",
       "      <td>unpaired</td>\n",
       "      <td>Mono.CD14</td>\n",
       "      <td>0</td>\n",
       "      <td>CD14.Mono</td>\n",
       "    </tr>\n",
       "    <tr>\n",
       "      <th>AAACCTGCAAGCGAGT-1_1</th>\n",
       "      <td>GW</td>\n",
       "      <td>3760.0</td>\n",
       "      <td>1507</td>\n",
       "      <td>0.718085</td>\n",
       "      <td>23.989362</td>\n",
       "      <td>-0.040017</td>\n",
       "      <td>-0.061661</td>\n",
       "      <td>G1</td>\n",
       "      <td>0</td>\n",
       "      <td>4</td>\n",
       "      <td>1</td>\n",
       "      <td>SLE</td>\n",
       "      <td>untreated</td>\n",
       "      <td>unpaired</td>\n",
       "      <td>Mono.CD14</td>\n",
       "      <td>1</td>\n",
       "      <td>CD14.Mono</td>\n",
       "    </tr>\n",
       "    <tr>\n",
       "      <th>AAACCTGGTCGTGGCT-1_1</th>\n",
       "      <td>GW</td>\n",
       "      <td>3551.0</td>\n",
       "      <td>1617</td>\n",
       "      <td>3.097719</td>\n",
       "      <td>19.431146</td>\n",
       "      <td>-0.006928</td>\n",
       "      <td>-0.090268</td>\n",
       "      <td>G1</td>\n",
       "      <td>0</td>\n",
       "      <td>13</td>\n",
       "      <td>11</td>\n",
       "      <td>SLE</td>\n",
       "      <td>untreated</td>\n",
       "      <td>unpaired</td>\n",
       "      <td>Mono.CD16</td>\n",
       "      <td>11</td>\n",
       "      <td>CD14.Mono</td>\n",
       "    </tr>\n",
       "    <tr>\n",
       "      <th>AAACCTGGTTGCGCAC-1_1</th>\n",
       "      <td>GW</td>\n",
       "      <td>8798.0</td>\n",
       "      <td>2888</td>\n",
       "      <td>1.068425</td>\n",
       "      <td>22.516481</td>\n",
       "      <td>0.073245</td>\n",
       "      <td>0.060149</td>\n",
       "      <td>S</td>\n",
       "      <td>7</td>\n",
       "      <td>26</td>\n",
       "      <td>8</td>\n",
       "      <td>SLE</td>\n",
       "      <td>untreated</td>\n",
       "      <td>unpaired</td>\n",
       "      <td>mDC</td>\n",
       "      <td>8</td>\n",
       "      <td>mDC</td>\n",
       "    </tr>\n",
       "    <tr>\n",
       "      <th>...</th>\n",
       "      <td>...</td>\n",
       "      <td>...</td>\n",
       "      <td>...</td>\n",
       "      <td>...</td>\n",
       "      <td>...</td>\n",
       "      <td>...</td>\n",
       "      <td>...</td>\n",
       "      <td>...</td>\n",
       "      <td>...</td>\n",
       "      <td>...</td>\n",
       "      <td>...</td>\n",
       "      <td>...</td>\n",
       "      <td>...</td>\n",
       "      <td>...</td>\n",
       "      <td>...</td>\n",
       "      <td>...</td>\n",
       "      <td>...</td>\n",
       "    </tr>\n",
       "    <tr>\n",
       "      <th>TTTGCGCAGACAGACC-1_22</th>\n",
       "      <td>ZS</td>\n",
       "      <td>4491.0</td>\n",
       "      <td>1598</td>\n",
       "      <td>1.870407</td>\n",
       "      <td>26.386106</td>\n",
       "      <td>0.032536</td>\n",
       "      <td>-0.059164</td>\n",
       "      <td>S</td>\n",
       "      <td>1</td>\n",
       "      <td>4</td>\n",
       "      <td>1</td>\n",
       "      <td>HC</td>\n",
       "      <td>HC</td>\n",
       "      <td>unpaired</td>\n",
       "      <td>Mono.CD14</td>\n",
       "      <td>1</td>\n",
       "      <td>CD14.Mono</td>\n",
       "    </tr>\n",
       "    <tr>\n",
       "      <th>TTTGCGCCAGGGTACA-1_22</th>\n",
       "      <td>ZS</td>\n",
       "      <td>4588.0</td>\n",
       "      <td>2066</td>\n",
       "      <td>2.266783</td>\n",
       "      <td>18.352223</td>\n",
       "      <td>0.055136</td>\n",
       "      <td>-0.005642</td>\n",
       "      <td>S</td>\n",
       "      <td>0</td>\n",
       "      <td>4</td>\n",
       "      <td>2</td>\n",
       "      <td>HC</td>\n",
       "      <td>HC</td>\n",
       "      <td>unpaired</td>\n",
       "      <td>Mono.CD14</td>\n",
       "      <td>2</td>\n",
       "      <td>CD14.Mono</td>\n",
       "    </tr>\n",
       "    <tr>\n",
       "      <th>TTTGGTTAGCTGAACG-1_22</th>\n",
       "      <td>ZS</td>\n",
       "      <td>1999.0</td>\n",
       "      <td>1118</td>\n",
       "      <td>0.750375</td>\n",
       "      <td>18.009005</td>\n",
       "      <td>0.007115</td>\n",
       "      <td>0.005170</td>\n",
       "      <td>S</td>\n",
       "      <td>2</td>\n",
       "      <td>4</td>\n",
       "      <td>0</td>\n",
       "      <td>HC</td>\n",
       "      <td>HC</td>\n",
       "      <td>unpaired</td>\n",
       "      <td>Mono.CD14</td>\n",
       "      <td>0</td>\n",
       "      <td>CD14.Mono</td>\n",
       "    </tr>\n",
       "    <tr>\n",
       "      <th>TTTGTCATCAAACCGT-1_22</th>\n",
       "      <td>ZS</td>\n",
       "      <td>6152.0</td>\n",
       "      <td>2114</td>\n",
       "      <td>1.820546</td>\n",
       "      <td>32.672302</td>\n",
       "      <td>-0.022510</td>\n",
       "      <td>-0.055046</td>\n",
       "      <td>G1</td>\n",
       "      <td>1</td>\n",
       "      <td>4</td>\n",
       "      <td>1</td>\n",
       "      <td>HC</td>\n",
       "      <td>HC</td>\n",
       "      <td>unpaired</td>\n",
       "      <td>Mono.CD14</td>\n",
       "      <td>1</td>\n",
       "      <td>CD14.Mono</td>\n",
       "    </tr>\n",
       "    <tr>\n",
       "      <th>TTTGTCATCTGACCTC-1_22</th>\n",
       "      <td>ZS</td>\n",
       "      <td>2998.0</td>\n",
       "      <td>1414</td>\n",
       "      <td>2.301534</td>\n",
       "      <td>20.446965</td>\n",
       "      <td>-0.041700</td>\n",
       "      <td>-0.041426</td>\n",
       "      <td>G1</td>\n",
       "      <td>5</td>\n",
       "      <td>13</td>\n",
       "      <td>5</td>\n",
       "      <td>HC</td>\n",
       "      <td>HC</td>\n",
       "      <td>unpaired</td>\n",
       "      <td>Mono.CD16</td>\n",
       "      <td>5</td>\n",
       "      <td>CD16.Mono</td>\n",
       "    </tr>\n",
       "  </tbody>\n",
       "</table>\n",
       "<p>32317 rows × 17 columns</p>\n",
       "</div>"
      ],
      "text/plain": [
       "                      orig.ident  nCount_RNA  nFeature_RNA  percent_mito  \\\n",
       "AAACCTGAGCTTCGCG-1_1          GW      6373.0          2098      1.851561   \n",
       "AAACCTGAGGTGACCA-1_1          GW      2406.0          1136      0.706567   \n",
       "AAACCTGCAAGCGAGT-1_1          GW      3760.0          1507      0.718085   \n",
       "AAACCTGGTCGTGGCT-1_1          GW      3551.0          1617      3.097719   \n",
       "AAACCTGGTTGCGCAC-1_1          GW      8798.0          2888      1.068425   \n",
       "...                          ...         ...           ...           ...   \n",
       "TTTGCGCAGACAGACC-1_22         ZS      4491.0          1598      1.870407   \n",
       "TTTGCGCCAGGGTACA-1_22         ZS      4588.0          2066      2.266783   \n",
       "TTTGGTTAGCTGAACG-1_22         ZS      1999.0          1118      0.750375   \n",
       "TTTGTCATCAAACCGT-1_22         ZS      6152.0          2114      1.820546   \n",
       "TTTGTCATCTGACCTC-1_22         ZS      2998.0          1414      2.301534   \n",
       "\n",
       "                       percent_ribo   S.Score  G2M.Score Phase old.ident  \\\n",
       "AAACCTGAGCTTCGCG-1_1      17.966421  0.008174   0.007950     S         1   \n",
       "AAACCTGAGGTGACCA-1_1      26.350790 -0.026275  -0.029417    G1         0   \n",
       "AAACCTGCAAGCGAGT-1_1      23.989362 -0.040017  -0.061661    G1         0   \n",
       "AAACCTGGTCGTGGCT-1_1      19.431146 -0.006928  -0.090268    G1         0   \n",
       "AAACCTGGTTGCGCAC-1_1      22.516481  0.073245   0.060149     S         7   \n",
       "...                             ...       ...        ...   ...       ...   \n",
       "TTTGCGCAGACAGACC-1_22     26.386106  0.032536  -0.059164     S         1   \n",
       "TTTGCGCCAGGGTACA-1_22     18.352223  0.055136  -0.005642     S         0   \n",
       "TTTGGTTAGCTGAACG-1_22     18.009005  0.007115   0.005170     S         2   \n",
       "TTTGTCATCAAACCGT-1_22     32.672302 -0.022510  -0.055046    G1         1   \n",
       "TTTGTCATCTGACCTC-1_22     20.446965 -0.041700  -0.041426    G1         5   \n",
       "\n",
       "                      RNA_snn_res.1 seurat_clusters group  treatment  \\\n",
       "AAACCTGAGCTTCGCG-1_1              4               0   SLE  untreated   \n",
       "AAACCTGAGGTGACCA-1_1              4               0   SLE  untreated   \n",
       "AAACCTGCAAGCGAGT-1_1              4               1   SLE  untreated   \n",
       "AAACCTGGTCGTGGCT-1_1             13              11   SLE  untreated   \n",
       "AAACCTGGTTGCGCAC-1_1             26               8   SLE  untreated   \n",
       "...                             ...             ...   ...        ...   \n",
       "TTTGCGCAGACAGACC-1_22             4               1    HC         HC   \n",
       "TTTGCGCCAGGGTACA-1_22             4               2    HC         HC   \n",
       "TTTGGTTAGCTGAACG-1_22             4               0    HC         HC   \n",
       "TTTGTCATCAAACCGT-1_22             4               1    HC         HC   \n",
       "TTTGTCATCTGACCTC-1_22            13               5    HC         HC   \n",
       "\n",
       "                           pair  cell_type RNA_snn_res.0.8    subtype  \n",
       "AAACCTGAGCTTCGCG-1_1   unpaired  Mono.CD14               0  CD14.Mono  \n",
       "AAACCTGAGGTGACCA-1_1   unpaired  Mono.CD14               0  CD14.Mono  \n",
       "AAACCTGCAAGCGAGT-1_1   unpaired  Mono.CD14               1  CD14.Mono  \n",
       "AAACCTGGTCGTGGCT-1_1   unpaired  Mono.CD16              11  CD14.Mono  \n",
       "AAACCTGGTTGCGCAC-1_1   unpaired        mDC               8        mDC  \n",
       "...                         ...        ...             ...        ...  \n",
       "TTTGCGCAGACAGACC-1_22  unpaired  Mono.CD14               1  CD14.Mono  \n",
       "TTTGCGCCAGGGTACA-1_22  unpaired  Mono.CD14               2  CD14.Mono  \n",
       "TTTGGTTAGCTGAACG-1_22  unpaired  Mono.CD14               0  CD14.Mono  \n",
       "TTTGTCATCAAACCGT-1_22  unpaired  Mono.CD14               1  CD14.Mono  \n",
       "TTTGTCATCTGACCTC-1_22  unpaired  Mono.CD16               5  CD16.Mono  \n",
       "\n",
       "[32317 rows x 17 columns]"
      ]
     },
     "execution_count": 17,
     "metadata": {},
     "output_type": "execute_result"
    }
   ],
   "source": [
    "adata.obs"
   ]
  },
  {
   "cell_type": "code",
   "execution_count": 18,
   "id": "bc6f35c7-2612-4a60-ac3f-61f16fc1750b",
   "metadata": {},
   "outputs": [
    {
     "name": "stderr",
     "output_type": "stream",
     "text": [
      "The loom file will lack these fields:\n",
      "{'X_pca', 'X_harmony', 'X_umap'}\n",
      "Use write_obsm_varm=True to export multi-dimensional annotations\n"
     ]
    }
   ],
   "source": [
    "adata.write_loom('./output_file/seurat/mono_dc/mono_dc_filter_harmony_sceasy_scanpy.loom')"
   ]
  },
  {
   "cell_type": "code",
   "execution_count": 19,
   "id": "a8fa0da3-3a12-42ae-92c5-dda61a92d0d7",
   "metadata": {},
   "outputs": [
    {
     "name": "stderr",
     "output_type": "stream",
     "text": [
      "/home/xiacr/miniconda3/envs/pyscenic/lib/python3.7/site-packages/anndata/_core/anndata.py:120: ImplicitModificationWarning: Transforming to str index.\n",
      "  warnings.warn(\"Transforming to str index.\", ImplicitModificationWarning)\n"
     ]
    }
   ],
   "source": [
    "loom = sc.read_loom('./output_file/seurat/mono_dc/mono_dc_filter_harmony_sceasy_scanpy.loom')\n",
    "loom.X[1:5,1:5].todense()"
   ]
  },
  {
   "cell_type": "code",
   "execution_count": 3,
   "id": "af562778-f663-4e18-8ece-2473c710ac2d",
   "metadata": {},
   "outputs": [
    {
     "name": "stderr",
     "output_type": "stream",
     "text": [
      "/home/xiacr/miniconda3/envs/scenic_protocol/lib/python3.6/site-packages/anndata/_core/anndata.py:120: ImplicitModificationWarning: Transforming to str index.\n",
      "  warnings.warn(\"Transforming to str index.\", ImplicitModificationWarning)\n"
     ]
    }
   ],
   "source": [
    "loom = sc.read_loom('./bcell/input.loom')"
   ]
  },
  {
   "cell_type": "code",
   "execution_count": 4,
   "id": "f90d3bab-c04f-45cb-b8c2-0238fde218ef",
   "metadata": {},
   "outputs": [
    {
     "data": {
      "text/plain": [
       "AnnData object with n_obs × n_vars = 22883 × 23322\n",
       "    obs: 'G2M.Score', 'Phase', 'RNA_snn_res.0.6', 'RNA_snn_res.0.8', 'RNA_snn_res.1', 'RNA_snn_res.1.2', 'S.Score', 'group', 'main_type', 'nCount_RNA', 'nFeature_RNA', 'obs_names', 'old.ident', 'orig.ident', 'pair', 'percent_mito', 'percent_ribo', 'seurat_clusters', 'subtype', 'treatment'\n",
       "    var: 'var_names', 'vst.mean', 'vst.variable', 'vst.variance', 'vst.variance.expected', 'vst.variance.standardized'"
      ]
     },
     "execution_count": 4,
     "metadata": {},
     "output_type": "execute_result"
    }
   ],
   "source": [
    "loom"
   ]
  },
  {
   "cell_type": "markdown",
   "id": "f0f5ae59-efda-45fd-9d14-6c34073b6dd0",
   "metadata": {},
   "source": [
    "## loompy"
   ]
  },
  {
   "cell_type": "code",
   "execution_count": 24,
   "id": "c8ab6ed2-d832-40cb-87d5-7522739c0db5",
   "metadata": {},
   "outputs": [],
   "source": [
    "import loompy as lp\n",
    "import numpy as np"
   ]
  },
  {
   "cell_type": "code",
   "execution_count": 39,
   "id": "3cb9f43f-6e0b-4c81-89d1-f7a3b5c09ca9",
   "metadata": {},
   "outputs": [],
   "source": [
    "f_loom_path_scenic=\"/rd2/user/xiacr/sle/output_file/seurat/mono_dc/mono_dc_filter_harmony_sceasy_scanpy.loom\"\n",
    "# create basic row and column attributes for the loom file:\n",
    "row_attrs = {\n",
    "    \"Gene\": np.array(loom.var_names) ,\n",
    "}\n",
    "col_attrs = {\n",
    "    \"CellID\": np.array(loom.obs_names) ,\n",
    "    \"nGene\": np.array( np.sum(loom.X.transpose()>0 , axis=0)).flatten() ,\n",
    "    \"nUMI\": np.array( np.sum(loom.X.transpose() , axis=0)).flatten() ,\n",
    "    'subtype': np.array(loom.obs['subtype'])\n",
    "}\n",
    "lp.create( f_loom_path_scenic, loom.X.transpose().todense(), row_attrs, col_attrs)"
   ]
  },
  {
   "cell_type": "code",
   "execution_count": 40,
   "id": "5df0b2b9-6a8a-4944-b470-b86d816e4a64",
   "metadata": {
    "tags": []
   },
   "outputs": [],
   "source": [
    "loom = sc.read_loom('./output_file/seurat/mono_dc/mono_dc_filter_harmony_sceasy_scanpy.loom')"
   ]
  },
  {
   "cell_type": "code",
   "execution_count": 43,
   "id": "89fba3ca-50de-4b87-a30c-5e9e6d684cb9",
   "metadata": {},
   "outputs": [
    {
     "data": {
      "text/plain": [
       "matrix([[0., 0., 0., ..., 0., 0., 0.],\n",
       "        [0., 0., 0., ..., 0., 0., 0.],\n",
       "        [0., 0., 0., ..., 0., 0., 0.],\n",
       "        ...,\n",
       "        [0., 0., 0., ..., 0., 0., 0.],\n",
       "        [0., 0., 0., ..., 0., 0., 0.],\n",
       "        [0., 0., 0., ..., 0., 0., 0.]], dtype=float32)"
      ]
     },
     "execution_count": 43,
     "metadata": {},
     "output_type": "execute_result"
    }
   ],
   "source": [
    "adata.X.transpose().todense()"
   ]
  },
  {
   "cell_type": "code",
   "execution_count": 42,
   "id": "1dcb4672-2de2-4bfe-99f2-2fecab24cf76",
   "metadata": {},
   "outputs": [
    {
     "data": {
      "text/plain": [
       "<32317x23445 sparse matrix of type '<class 'numpy.float32'>'\n",
       "\twith 53311457 stored elements in Compressed Sparse Column format>"
      ]
     },
     "execution_count": 42,
     "metadata": {},
     "output_type": "execute_result"
    }
   ],
   "source": [
    "adata.X"
   ]
  }
 ],
 "metadata": {
  "kernelspec": {
   "display_name": "scenic_protocol",
   "language": "python",
   "name": "scenic_protocol"
  },
  "language_info": {
   "codemirror_mode": {
    "name": "ipython",
    "version": 3
   },
   "file_extension": ".py",
   "mimetype": "text/x-python",
   "name": "python",
   "nbconvert_exporter": "python",
   "pygments_lexer": "ipython3",
   "version": "3.6.13"
  }
 },
 "nbformat": 4,
 "nbformat_minor": 5
}
