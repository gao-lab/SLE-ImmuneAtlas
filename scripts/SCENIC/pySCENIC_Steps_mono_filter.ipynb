{
 "cells": [
  {
   "cell_type": "code",
   "execution_count": 3,
   "id": "84629458-83ab-40c8-a290-76098028bec1",
   "metadata": {},
   "outputs": [],
   "source": [
    "import os\n",
    "import numpy as np\n",
    "import pandas as pd\n",
    "import scanpy as sc\n",
    "import loompy as lp\n",
    "from MulticoreTSNE import MulticoreTSNE as TSNE"
   ]
  },
  {
   "cell_type": "code",
   "execution_count": 4,
   "id": "44215a7f-b33b-4129-9ad7-25dc362cc441",
   "metadata": {},
   "outputs": [],
   "source": [
    "f_tfs = \"/rd2/user/xiacr/sle/source/SCENIC/resource/hs_hgnc_curated_tfs.txt\" \n",
    "f_loom_path_scenic = \"/rd2/user/xiacr/sle/output_file/seurat/mono_dc/mono_dc_filter_harmony.loom\""
   ]
  },
  {
   "cell_type": "code",
   "execution_count": 7,
   "id": "3e3d8999-6478-4235-ae6a-1e2a9b2f4118",
   "metadata": {},
   "outputs": [
    {
     "name": "stdout",
     "output_type": "stream",
     "text": [
      "zsh:1: command not found: pyscenic\n"
     ]
    }
   ],
   "source": [
    "!pyscenic grn {f_loom_path_scenic} {f_tfs} -o adj.csv --num_workers 20"
   ]
  },
  {
   "cell_type": "code",
   "execution_count": 6,
   "id": "17496f9f-52e2-4b20-8e86-030043b5659a",
   "metadata": {},
   "outputs": [
    {
     "name": "stdout",
     "output_type": "stream",
     "text": [
      "\n",
      "CommandNotFoundError: Your shell has not been properly configured to use 'conda activate'.\n",
      "To initialize your shell, run\n",
      "\n",
      "    $ conda init <SHELL_NAME>\n",
      "\n",
      "Currently supported shells are:\n",
      "  - bash\n",
      "  - fish\n",
      "  - tcsh\n",
      "  - xonsh\n",
      "  - zsh\n",
      "  - powershell\n",
      "\n",
      "See 'conda init --help' for more information and options.\n",
      "\n",
      "IMPORTANT: You may need to close and restart your shell after running 'conda init'.\n",
      "\n",
      "\n"
     ]
    }
   ],
   "source": [
    "!conda activate pyscenic"
   ]
  },
  {
   "cell_type": "code",
   "execution_count": 8,
   "id": "58287f08-641d-42de-806b-78be3eeb8eda",
   "metadata": {},
   "outputs": [],
   "source": [
    "import glob\n",
    "# ranking databases\n",
    "f_db_glob = \"/rd2/user/xiacr/sle/source/SCENIC/resource/*feather\"\n",
    "f_db_names = ' '.join( glob.glob(f_db_glob) )"
   ]
  },
  {
   "cell_type": "code",
   "execution_count": 9,
   "id": "7c620898-755c-4b02-9ad2-01a5e5f44863",
   "metadata": {},
   "outputs": [
    {
     "data": {
      "text/plain": [
       "'/rd2/user/xiacr/sle/source/SCENIC/resource/hg19-500bp-upstream-7species.mc9nr.feather /rd2/user/xiacr/sle/source/SCENIC/resource/hg19-tss-centered-10kb-7species.mc9nr.feather'"
      ]
     },
     "execution_count": 9,
     "metadata": {},
     "output_type": "execute_result"
    }
   ],
   "source": [
    "f_db_names"
   ]
  }
 ],
 "metadata": {
  "kernelspec": {
   "name": "pyscenic"
  },
  "language_info": {
   "codemirror_mode": {
    "name": "ipython",
    "version": 3
   },
   "file_extension": ".py",
   "mimetype": "text/x-python",
   "name": "python",
   "nbconvert_exporter": "python",
   "pygments_lexer": "ipython3",
   "version": "3.7.12"
  }
 },
 "nbformat": 4,
 "nbformat_minor": 5
}
