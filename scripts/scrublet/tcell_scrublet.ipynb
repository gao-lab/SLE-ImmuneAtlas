{
 "cells": [
  {
   "cell_type": "code",
   "execution_count": 1,
   "id": "1749a4e8-fc12-4b7f-bdcc-7c2512cf5f17",
   "metadata": {
    "tags": []
   },
   "outputs": [],
   "source": [
    "import scanpy as sc\n",
    "import scrublet as scr\n",
    "import pandas as pd\n",
    "import numpy as np"
   ]
  },
  {
   "cell_type": "code",
   "execution_count": 2,
   "id": "895eb2c9-838c-4030-8f02-7ad5dd74efeb",
   "metadata": {},
   "outputs": [],
   "source": [
    "adata = sc.read_h5ad('../../final//seurat/t_cell/02-t_cell_raw_harm.sceasy.h5ad')"
   ]
  },
  {
   "cell_type": "code",
   "execution_count": 3,
   "id": "084d1e49-b957-4c01-bc00-0a3e7ae07705",
   "metadata": {
    "collapsed": true,
    "jupyter": {
     "outputs_hidden": true
    },
    "tags": []
   },
   "outputs": [
    {
     "data": {
      "text/plain": [
       "matrix([[0., 0., 0., 0.],\n",
       "        [0., 0., 0., 0.],\n",
       "        [0., 0., 0., 0.],\n",
       "        [0., 0., 0., 0.],\n",
       "        [0., 0., 0., 0.],\n",
       "        [0., 0., 0., 0.],\n",
       "        [0., 0., 0., 0.],\n",
       "        [0., 0., 2., 0.],\n",
       "        [0., 0., 0., 0.],\n",
       "        [0., 0., 0., 0.],\n",
       "        [0., 0., 0., 0.],\n",
       "        [0., 0., 0., 0.],\n",
       "        [0., 0., 0., 0.],\n",
       "        [0., 0., 0., 1.],\n",
       "        [0., 0., 0., 0.],\n",
       "        [0., 0., 0., 0.],\n",
       "        [0., 0., 0., 0.],\n",
       "        [0., 0., 0., 0.],\n",
       "        [0., 0., 0., 0.],\n",
       "        [0., 0., 0., 0.],\n",
       "        [0., 0., 0., 0.],\n",
       "        [0., 0., 0., 0.],\n",
       "        [0., 0., 0., 0.],\n",
       "        [0., 0., 0., 0.],\n",
       "        [0., 0., 0., 0.],\n",
       "        [0., 0., 0., 0.],\n",
       "        [0., 0., 0., 0.],\n",
       "        [0., 0., 0., 0.],\n",
       "        [0., 0., 0., 0.]], dtype=float32)"
      ]
     },
     "execution_count": 3,
     "metadata": {},
     "output_type": "execute_result"
    }
   ],
   "source": [
    "adata\n",
    "adata.X[1:30,1:5].todense()"
   ]
  },
  {
   "cell_type": "code",
   "execution_count": null,
   "id": "2819c4bf-9995-4e51-bb16-8926d4183507",
   "metadata": {},
   "outputs": [
    {
     "name": "stdout",
     "output_type": "stream",
     "text": [
      "Preprocessing...\n"
     ]
    }
   ],
   "source": [
    "scrub = scr.Scrublet(adata.X )\n",
    "doublet_scores, predicted_doublets = scrub.scrub_doublets()"
   ]
  },
  {
   "cell_type": "code",
   "execution_count": 5,
   "id": "8c084f48-8863-44fc-a90a-3c4014a0197c",
   "metadata": {},
   "outputs": [
    {
     "data": {
      "text/plain": [
       "(167679,)"
      ]
     },
     "execution_count": 5,
     "metadata": {},
     "output_type": "execute_result"
    }
   ],
   "source": [
    "doublet_scores.shape"
   ]
  },
  {
   "cell_type": "code",
   "execution_count": 6,
   "id": "7e6faf34-feb4-459b-89cc-158a4f0fddef",
   "metadata": {},
   "outputs": [
    {
     "data": {
      "text/plain": [
       "Counter({False: 165974, True: 1705})"
      ]
     },
     "execution_count": 6,
     "metadata": {},
     "output_type": "execute_result"
    }
   ],
   "source": [
    "from collections import Counter\n",
    "Counter(predicted_doublets)"
   ]
  },
  {
   "cell_type": "code",
   "execution_count": 7,
   "id": "456ad775-17a4-4bb7-98e2-32e582e37d85",
   "metadata": {},
   "outputs": [],
   "source": [
    "tmp = {'barcode' : adata.obs_names, 'doublet' : predicted_doublets}\n",
    "result = pd.DataFrame(tmp)"
   ]
  },
  {
   "cell_type": "code",
   "execution_count": 8,
   "id": "fee819b2-91ce-42b4-a509-8b4e35dae7c7",
   "metadata": {
    "collapsed": true,
    "jupyter": {
     "outputs_hidden": true
    },
    "tags": []
   },
   "outputs": [
    {
     "data": {
      "text/html": [
       "<div>\n",
       "<style scoped>\n",
       "    .dataframe tbody tr th:only-of-type {\n",
       "        vertical-align: middle;\n",
       "    }\n",
       "\n",
       "    .dataframe tbody tr th {\n",
       "        vertical-align: top;\n",
       "    }\n",
       "\n",
       "    .dataframe thead th {\n",
       "        text-align: right;\n",
       "    }\n",
       "</style>\n",
       "<table border=\"1\" class=\"dataframe\">\n",
       "  <thead>\n",
       "    <tr style=\"text-align: right;\">\n",
       "      <th></th>\n",
       "      <th>barcode</th>\n",
       "      <th>doublet</th>\n",
       "    </tr>\n",
       "  </thead>\n",
       "  <tbody>\n",
       "    <tr>\n",
       "      <th>0</th>\n",
       "      <td>AAACCTGAGAAGGTGA-1_1</td>\n",
       "      <td>False</td>\n",
       "    </tr>\n",
       "    <tr>\n",
       "      <th>1</th>\n",
       "      <td>AAACCTGAGCTCCTTC-1_1</td>\n",
       "      <td>False</td>\n",
       "    </tr>\n",
       "    <tr>\n",
       "      <th>2</th>\n",
       "      <td>AAACCTGAGCTGCGAA-1_1</td>\n",
       "      <td>False</td>\n",
       "    </tr>\n",
       "    <tr>\n",
       "      <th>3</th>\n",
       "      <td>AAACCTGAGGAATCGC-1_1</td>\n",
       "      <td>False</td>\n",
       "    </tr>\n",
       "    <tr>\n",
       "      <th>4</th>\n",
       "      <td>AAACCTGCAAAGAATC-1_1</td>\n",
       "      <td>False</td>\n",
       "    </tr>\n",
       "    <tr>\n",
       "      <th>...</th>\n",
       "      <td>...</td>\n",
       "      <td>...</td>\n",
       "    </tr>\n",
       "    <tr>\n",
       "      <th>167674</th>\n",
       "      <td>TTTGTCAGTCTTCGTC-1_22</td>\n",
       "      <td>False</td>\n",
       "    </tr>\n",
       "    <tr>\n",
       "      <th>167675</th>\n",
       "      <td>TTTGTCATCGCGCCAA-1_22</td>\n",
       "      <td>False</td>\n",
       "    </tr>\n",
       "    <tr>\n",
       "      <th>167676</th>\n",
       "      <td>TTTGTCATCGGCGCAT-1_22</td>\n",
       "      <td>False</td>\n",
       "    </tr>\n",
       "    <tr>\n",
       "      <th>167677</th>\n",
       "      <td>TTTGTCATCTCTGCTG-1_22</td>\n",
       "      <td>False</td>\n",
       "    </tr>\n",
       "    <tr>\n",
       "      <th>167678</th>\n",
       "      <td>TTTGTCATCTGAGGGA-1_22</td>\n",
       "      <td>False</td>\n",
       "    </tr>\n",
       "  </tbody>\n",
       "</table>\n",
       "<p>167679 rows × 2 columns</p>\n",
       "</div>"
      ],
      "text/plain": [
       "                      barcode  doublet\n",
       "0        AAACCTGAGAAGGTGA-1_1    False\n",
       "1        AAACCTGAGCTCCTTC-1_1    False\n",
       "2        AAACCTGAGCTGCGAA-1_1    False\n",
       "3        AAACCTGAGGAATCGC-1_1    False\n",
       "4        AAACCTGCAAAGAATC-1_1    False\n",
       "...                       ...      ...\n",
       "167674  TTTGTCAGTCTTCGTC-1_22    False\n",
       "167675  TTTGTCATCGCGCCAA-1_22    False\n",
       "167676  TTTGTCATCGGCGCAT-1_22    False\n",
       "167677  TTTGTCATCTCTGCTG-1_22    False\n",
       "167678  TTTGTCATCTGAGGGA-1_22    False\n",
       "\n",
       "[167679 rows x 2 columns]"
      ]
     },
     "execution_count": 8,
     "metadata": {},
     "output_type": "execute_result"
    }
   ],
   "source": [
    "result"
   ]
  },
  {
   "cell_type": "code",
   "execution_count": 9,
   "id": "545ae3f8-a4a3-421e-8ef4-04b9fdb4aca3",
   "metadata": {},
   "outputs": [],
   "source": [
    "result.to_csv('./tcell_doublet_result.csv', index=False)"
   ]
  },
  {
   "cell_type": "code",
   "execution_count": 3,
   "id": "cb71d631-a212-49af-ace5-824dc463b3e4",
   "metadata": {},
   "outputs": [
    {
     "data": {
      "text/plain": [
       "['In',\n",
       " 'Out',\n",
       " '_',\n",
       " '__',\n",
       " '___',\n",
       " '__builtin__',\n",
       " '__builtins__',\n",
       " '__doc__',\n",
       " '__loader__',\n",
       " '__name__',\n",
       " '__package__',\n",
       " '__spec__',\n",
       " '_dh',\n",
       " '_exit_code',\n",
       " '_i',\n",
       " '_i1',\n",
       " '_i2',\n",
       " '_i3',\n",
       " '_ih',\n",
       " '_ii',\n",
       " '_iii',\n",
       " '_oh',\n",
       " 'exit',\n",
       " 'get_ipython',\n",
       " 'quit']"
      ]
     },
     "execution_count": 3,
     "metadata": {},
     "output_type": "execute_result"
    }
   ],
   "source": [
    "dir()"
   ]
  }
 ],
 "metadata": {
  "kernelspec": {
   "display_name": "sle",
   "language": "python",
   "name": "sle"
  },
  "language_info": {
   "codemirror_mode": {
    "name": "ipython",
    "version": 3
   },
   "file_extension": ".py",
   "mimetype": "text/x-python",
   "name": "python",
   "nbconvert_exporter": "python",
   "pygments_lexer": "ipython3",
   "version": "3.8.12"
  }
 },
 "nbformat": 4,
 "nbformat_minor": 5
}
