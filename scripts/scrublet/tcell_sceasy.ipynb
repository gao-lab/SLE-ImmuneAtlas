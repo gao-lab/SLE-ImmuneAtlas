{
 "cells": [
  {
   "cell_type": "code",
   "execution_count": 1,
   "id": "d452a4f9-659a-461e-aa7e-aee869492776",
   "metadata": {},
   "outputs": [
    {
     "name": "stderr",
     "output_type": "stream",
     "text": [
      "Loading required package: reticulate\n",
      "\n",
      "Registered S3 method overwritten by 'spatstat.geom':\n",
      "  method     from\n",
      "  print.boxx cli \n",
      "\n"
     ]
    }
   ],
   "source": [
    "library(sceasy)\n",
    "use_condaenv('sceasy')\n",
    "load('../../final/seurat/t_cell/02-t_cell_raw_harm.rdata')"
   ]
  },
  {
   "cell_type": "code",
   "execution_count": 1,
   "id": "da2a939b-2fd1-43d0-a2e7-0b396f338f17",
   "metadata": {},
   "outputs": [
    {
     "data": {
      "text/html": [],
      "text/latex": [],
      "text/markdown": [],
      "text/plain": [
       "character(0)"
      ]
     },
     "metadata": {},
     "output_type": "display_data"
    }
   ],
   "source": [
    "ls()"
   ]
  },
  {
   "cell_type": "code",
   "execution_count": 6,
   "id": "49065e7f-5176-425f-bda4-10b8ab9f92be",
   "metadata": {},
   "outputs": [
    {
     "name": "stderr",
     "output_type": "stream",
     "text": [
      "Warning message in .regularise_df(obj@meta.data, drop_single_values = drop_single_values):\n",
      "“Dropping single category variables:PIC”\n"
     ]
    },
    {
     "data": {
      "text/plain": [
       "AnnData object with n_obs × n_vars = 167679 × 23322\n",
       "    obs: 'orig.ident', 'nCount_RNA', 'nFeature_RNA', 'group', 'treatment', 'pair', 'percent_mito', 'percent_ribo', 'S.Score', 'G2M.Score', 'Phase', 'old.ident', 'RNA_snn_res.0.8', 'RNA_snn_res.1', 'seurat_clusters', 'main_type'\n",
       "    var: 'vst.mean', 'vst.variance', 'vst.variance.expected', 'vst.variance.standardized', 'vst.variable'\n",
       "    obsm: 'X_pca', 'X_umap', 'X_harmony'"
      ]
     },
     "metadata": {},
     "output_type": "display_data"
    }
   ],
   "source": [
    "tcell_harm@assays$RNA@data <- tcell_harm@assays$RNA@counts\n",
    "convertFormat(tcell_harm, from=\"seurat\", to=\"anndata\",\n",
    "                      outFile='../../final/seurat/t_cell/02-t_cell_raw_harm.sceasy.h5ad')"
   ]
  }
 ],
 "metadata": {
  "kernelspec": {
   "display_name": "R41 4.0.3",
   "language": "R",
   "name": "ir403"
  },
  "language_info": {
   "codemirror_mode": "r",
   "file_extension": ".r",
   "mimetype": "text/x-r-source",
   "name": "R",
   "pygments_lexer": "r",
   "version": "4.0.3"
  }
 },
 "nbformat": 4,
 "nbformat_minor": 5
}
