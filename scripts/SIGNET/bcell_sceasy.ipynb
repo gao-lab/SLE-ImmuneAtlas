{
 "cells": [
  {
   "cell_type": "code",
   "execution_count": 9,
   "id": "4d6e41b3-0d8f-4a68-ba9e-595c6966cfee",
   "metadata": {},
   "outputs": [
    {
     "name": "stderr",
     "output_type": "stream",
     "text": [
      "Attaching SeuratObject\n",
      "\n"
     ]
    }
   ],
   "source": [
    "library(sceasy)\n",
    "library(Seurat)\n",
    "use_condaenv('sceasy')\n",
    "load('../../final/seurat/b_cell/03-b_cell_anno_filter_harm.rdata')"
   ]
  },
  {
   "cell_type": "code",
   "execution_count": 27,
   "id": "e3a953e9-5b1e-405a-9bd0-8152dee62786",
   "metadata": {},
   "outputs": [
    {
     "data": {
      "text/html": [
       "'bcell_filter'"
      ],
      "text/latex": [
       "'bcell\\_filter'"
      ],
      "text/markdown": [
       "'bcell_filter'"
      ],
      "text/plain": [
       "[1] \"bcell_filter\""
      ]
     },
     "metadata": {},
     "output_type": "display_data"
    }
   ],
   "source": [
    "ls()[1]\n",
    "tmp <- get(ls()[1])"
   ]
  },
  {
   "cell_type": "code",
   "execution_count": 4,
   "id": "c6d21e62-5ad3-4adc-bc1b-6814fbadfead",
   "metadata": {},
   "outputs": [
    {
     "name": "stderr",
     "output_type": "stream",
     "text": [
      "Warning message in .regularise_df(obj@meta.data, drop_single_values = drop_single_values):\n",
      "“Dropping single category variables:PIC”\n"
     ]
    },
    {
     "data": {
      "text/plain": [
       "AnnData object with n_obs × n_vars = 22883 × 23322\n",
       "    obs: 'orig.ident', 'nCount_RNA', 'nFeature_RNA', 'group', 'treatment', 'pair', 'percent_mito', 'percent_ribo', 'S.Score', 'G2M.Score', 'Phase', 'old.ident', 'RNA_snn_res.0.8', 'RNA_snn_res.1', 'seurat_clusters', 'main_type', 'RNA_snn_res.0.6', 'RNA_snn_res.1.2', 'subtype'\n",
       "    var: 'vst.mean', 'vst.variance', 'vst.variance.expected', 'vst.variance.standardized', 'vst.variable'\n",
       "    obsm: 'X_pca', 'X_umap', 'X_harmony'"
      ]
     },
     "metadata": {},
     "output_type": "display_data"
    },
    {
     "data": {
      "text/html": [
       "<table class=\"dataframe\">\n",
       "<caption>A matrix: 2 × 6 of type dbl</caption>\n",
       "<thead>\n",
       "\t<tr><th></th><th scope=col>used</th><th scope=col>(Mb)</th><th scope=col>gc trigger</th><th scope=col>(Mb)</th><th scope=col>max used</th><th scope=col>(Mb)</th></tr>\n",
       "</thead>\n",
       "<tbody>\n",
       "\t<tr><th scope=row>Ncells</th><td>2606207</td><td>139.2</td><td>  4767315</td><td> 254.7</td><td>  3608147</td><td> 192.7</td></tr>\n",
       "\t<tr><th scope=row>Vcells</th><td>7111179</td><td> 54.3</td><td>171359682</td><td>1307.4</td><td>204160831</td><td>1557.7</td></tr>\n",
       "</tbody>\n",
       "</table>\n"
      ],
      "text/latex": [
       "A matrix: 2 × 6 of type dbl\n",
       "\\begin{tabular}{r|llllll}\n",
       "  & used & (Mb) & gc trigger & (Mb) & max used & (Mb)\\\\\n",
       "\\hline\n",
       "\tNcells & 2606207 & 139.2 &   4767315 &  254.7 &   3608147 &  192.7\\\\\n",
       "\tVcells & 7111179 &  54.3 & 171359682 & 1307.4 & 204160831 & 1557.7\\\\\n",
       "\\end{tabular}\n"
      ],
      "text/markdown": [
       "\n",
       "A matrix: 2 × 6 of type dbl\n",
       "\n",
       "| <!--/--> | used | (Mb) | gc trigger | (Mb) | max used | (Mb) |\n",
       "|---|---|---|---|---|---|---|\n",
       "| Ncells | 2606207 | 139.2 |   4767315 |  254.7 |   3608147 |  192.7 |\n",
       "| Vcells | 7111179 |  54.3 | 171359682 | 1307.4 | 204160831 | 1557.7 |\n",
       "\n"
      ],
      "text/plain": [
       "       used    (Mb)  gc trigger (Mb)   max used  (Mb)  \n",
       "Ncells 2606207 139.2   4767315   254.7   3608147  192.7\n",
       "Vcells 7111179  54.3 171359682  1307.4 204160831 1557.7"
      ]
     },
     "metadata": {},
     "output_type": "display_data"
    }
   ],
   "source": [
    "tmp@assays$RNA@data <- tmp@assays$RNA@counts\n",
    "convertFormat(tmp, from=\"seurat\", to=\"anndata\",\n",
    "                      outFile='../../final/seurat/b_cell/03-b_cell_anno_filter_harm.h5ad')\n",
    "rm(tmp)\n",
    "gc()"
   ]
  },
  {
   "cell_type": "code",
   "execution_count": 1,
   "id": "8ee8606a-9576-4d0d-92a5-e9776ca847ad",
   "metadata": {},
   "outputs": [
    {
     "data": {
      "text/html": [],
      "text/latex": [],
      "text/markdown": [],
      "text/plain": [
       "character(0)"
      ]
     },
     "metadata": {},
     "output_type": "display_data"
    }
   ],
   "source": [
    "ls()"
   ]
  }
 ],
 "metadata": {
  "kernelspec": {
   "display_name": "R41 4.0.3",
   "language": "R",
   "name": "ir403"
  },
  "language_info": {
   "codemirror_mode": "r",
   "file_extension": ".r",
   "mimetype": "text/x-r-source",
   "name": "R",
   "pygments_lexer": "r",
   "version": "4.0.3"
  }
 },
 "nbformat": 4,
 "nbformat_minor": 5
}
