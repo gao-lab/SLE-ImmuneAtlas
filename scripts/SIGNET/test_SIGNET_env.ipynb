{
 "cells": [
  {
   "cell_type": "code",
   "execution_count": 23,
   "id": "338ad575-5501-4145-8bf9-1a862de5b040",
   "metadata": {},
   "outputs": [],
   "source": [
    "# python\n",
    "import pandas as pd\n",
    "import numpy as np\n",
    "import scanpy as sc\n",
    "import torch\n",
    "import torch.nn as nn\n",
    "import torch.nn.functional as F\n",
    "from torch.utils.data import Dataset, DataLoader, TensorDataset\n",
    "from torch.autograd import Variable\n",
    "from PIL import Image\n",
    "from sklearn.model_selection import train_test_split\n",
    "import argparse\n",
    "import os\n",
    "import SIGNET"
   ]
  },
  {
   "cell_type": "code",
   "execution_count": 5,
   "id": "b99620bc-4582-454a-ae83-a43b57548229",
   "metadata": {},
   "outputs": [
    {
     "name": "stdout",
     "output_type": "stream",
     "text": [
      "data loaded!\n",
      "AnnData object with n_obs × n_vars = 22883 × 23322\n",
      "    obs: 'orig.ident', 'nCount_RNA', 'nFeature_RNA', 'group', 'treatment', 'pair', 'percent_mito', 'percent_ribo', 'S.Score', 'G2M.Score', 'Phase', 'old.ident', 'RNA_snn_res.0.8', 'RNA_snn_res.1', 'seurat_clusters', 'main_type', 'RNA_snn_res.0.6', 'RNA_snn_res.1.2', 'subtype'\n",
      "    var: 'vst.mean', 'vst.variance', 'vst.variance.expected', 'vst.variance.standardized', 'vst.variable'\n",
      "    obsm: 'X_harmony', 'X_pca', 'X_umap'\n"
     ]
    }
   ],
   "source": [
    "data = sc.read_h5ad('/rd2/user/xiacr/sle/final/seurat/b_cell/03-b_cell_anno_filter_harm.h5ad')\n",
    "# data = data.transpose()\n",
    "tf_gene = pd.read_table('./hs_hgnc_tfs.txt',header=None)\n",
    "print(\"data loaded!\")\n",
    "print(data)\n",
    "# Quality control\n",
    "sc.pp.filter_genes(data, min_cells=6)\n",
    "# mouse data: mt-, human data: MT-\n",
    "mito = 'MT-'\n",
    "mito_genes = data.var_names.str.startswith(mito)\n",
    "data.var['mito'] = mito_genes\n",
    "qc = sc.pp.calculate_qc_metrics(data, qc_vars=['mito'])\n",
    "cell_qc_dataframe = qc[0]\n",
    "gene_qc_dataframe = qc[1]\n",
    "data.obs[\"n_genes\"] = cell_qc_dataframe['n_genes_by_counts']\n",
    "data.obs[\"n_counts\"] = cell_qc_dataframe['total_counts']\n",
    "data.obs[\"percent_mito\"] = cell_qc_dataframe['pct_counts_mito']\n",
    "data = data[data.obs.n_genes < 9000, :]\n",
    "data = data[data.obs.percent_mito < 20, :]\n",
    "# raw_data = pd.DataFrame(data.X.transpose().copy())"
   ]
  },
  {
   "cell_type": "code",
   "execution_count": 12,
   "id": "c735aeac-52b3-416c-9970-249a9580bca8",
   "metadata": {},
   "outputs": [
    {
     "data": {
      "text/plain": [
       "View of AnnData object with n_obs × n_vars = 22883 × 17490\n",
       "    obs: 'orig.ident', 'nCount_RNA', 'nFeature_RNA', 'group', 'treatment', 'pair', 'percent_mito', 'percent_ribo', 'S.Score', 'G2M.Score', 'Phase', 'old.ident', 'RNA_snn_res.0.8', 'RNA_snn_res.1', 'seurat_clusters', 'main_type', 'RNA_snn_res.0.6', 'RNA_snn_res.1.2', 'subtype', 'n_genes', 'n_counts'\n",
       "    var: 'vst.mean', 'vst.variance', 'vst.variance.expected', 'vst.variance.standardized', 'vst.variable', 'n_cells', 'mito'\n",
       "    obsm: 'X_harmony', 'X_pca', 'X_umap'"
      ]
     },
     "execution_count": 12,
     "metadata": {},
     "output_type": "execute_result"
    }
   ],
   "source": [
    "data"
   ]
  },
  {
   "cell_type": "code",
   "execution_count": 21,
   "id": "b840d84f-dbdd-4c53-91c9-95fe5894f4ef",
   "metadata": {},
   "outputs": [],
   "source": [
    "raw_data = pd.DataFrame(data.X.copy().todense().transpose())\n",
    "col_name = data.obs_names # cell\n",
    "row_name = data.var_names # gene\n",
    "raw_data.index = row_name\n",
    "raw_data.columns = col_name"
   ]
  },
  {
   "cell_type": "code",
   "execution_count": 26,
   "id": "8c83970f-0d59-4b51-bb9d-13623f0dac34",
   "metadata": {},
   "outputs": [
    {
     "name": "stdout",
     "output_type": "stream",
     "text": [
      "WARNING: adata.X seems to be already log-transformed.\n",
      "Binarization Begin!\n"
     ]
    }
   ],
   "source": [
    "sc.pp.normalize_total(data, target_sum=1e4)\n",
    "sc.pp.log1p(data)\n",
    "sc.pp.highly_variable_genes(data, n_top_genes = 5000)\n",
    "gene_list = data.var.highly_variable\n",
    "gene_list = gene_list.index[gene_list == True]\n",
    "gene_list = gene_list.to_list()\n",
    "raw_data_fe = raw_data.loc[gene_list]\n",
    "list1 = tf_gene[0].to_list()\n",
    "list2 = raw_data_fe.index\n",
    "list5 = raw_data.index\n",
    "list3 = [x for x in list1 if x in list2]\n",
    "list4 = [x for x in list2 if x not in list1]\n",
    "raw_data_tf = raw_data.loc[list3, ]\n",
    "raw_data_ntf = raw_data_fe.loc[list4, ]\n",
    "gene_ntf = raw_data_ntf.index\n",
    "gene_tf = raw_data_tf.index\n",
    "HL_estimator = []\n",
    "thresholds = []\n",
    "data_ntf_binary = raw_data_ntf\n",
    "threshold_index = raw_data_ntf.shape[1]*(raw_data_ntf.shape[1]-1)/4\n",
    "print(\"Binarization Begin!\")\n"
   ]
  },
  {
   "cell_type": "code",
   "execution_count": null,
   "id": "2a13af88-d189-4bc5-b2b0-c73eb6d8f0c5",
   "metadata": {},
   "outputs": [],
   "source": [
    "for i in range(raw_data_ntf.shape[0]):\n",
    "    gene_expr = raw_data_ntf.loc[gene_ntf[i], ]\n",
    "    marker = [0 for x in range(int(gene_expr.max())+1)]\n",
    "    record = []\n",
    "    value = []\n",
    "    for j in range(gene_expr.__len__()):\n",
    "        marker[int(gene_expr[j])] += 1\n",
    "    for j in range(int(gene_expr.max())+1):\n",
    "        if marker[j] != 0:\n",
    "            value.append(j)\n",
    "            record.append(marker[j])\n",
    "    value_calculation = []\n",
    "    record_calculation = []\n",
    "    for j in range(int(value.__len__())):\n",
    "        for k in range(j, value.__len__()):\n",
    "            value_calculation.append((value[j]+value[k])/2)\n",
    "            if j == k:\n",
    "                record_calculation.append(record[j]*(record[j]-1)/2)\n",
    "            else:\n",
    "                record_calculation.append(record[j]*record[k])\n",
    "    test = {'index': value_calculation, 'number': record_calculation}\n",
    "    HL_estimator = pd.DataFrame(test)\n",
    "    HL_estimator_new = HL_estimator.sort_values(by=['index'],ascending=True)\n",
    "    thresin = 0\n",
    "    for j in range(record_calculation.__len__()):\n",
    "        thresin += HL_estimator_new.iat[j, 1]\n",
    "        if thresin >= threshold_index:\n",
    "            threshold = HL_estimator_new.iat[j, 0]\n",
    "            for k in range(data_ntf_binary.shape[1]):\n",
    "                if data_ntf_binary.iat[i, k] > threshold:\n",
    "                    data_ntf_binary.iat[i, k] = 1\n",
    "                else:\n",
    "                    data_ntf_binary.iat[i, k] = 0\n",
    "            thresholds.append(HL_estimator_new.iat[j, 0])\n",
    "            break"
   ]
  }
 ],
 "metadata": {
  "kernelspec": {
   "display_name": "conda_solo_py3",
   "language": "python",
   "name": "conda_solo_py3"
  },
  "language_info": {
   "codemirror_mode": {
    "name": "ipython",
    "version": 3
   },
   "file_extension": ".py",
   "mimetype": "text/x-python",
   "name": "python",
   "nbconvert_exporter": "python",
   "pygments_lexer": "ipython3",
   "version": "3.7.10"
  }
 },
 "nbformat": 4,
 "nbformat_minor": 5
}
