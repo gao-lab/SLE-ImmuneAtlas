{
 "cells": [
  {
   "cell_type": "markdown",
   "id": "a9aa5c95-5d31-4c3a-a772-ee7edd76cd8e",
   "metadata": {},
   "source": [
    "# cNMF test \n",
    "use platelet as the test sample, use conda the env **cnmf_env**"
   ]
  },
  {
   "cell_type": "code",
   "execution_count": 1,
   "id": "1a8a2223-08f4-41e8-9798-e161699b61ef",
   "metadata": {},
   "outputs": [],
   "source": [
    "import os\n",
    "import pandas as pd\n",
    "import numpy as np\n",
    "from scipy.io import mmread\n",
    "import scipy.sparse as sp\n",
    "import matplotlib.pyplot as plt\n",
    "from IPython.display import Image\n",
    "import scanpy as sc"
   ]
  },
  {
   "cell_type": "code",
   "execution_count": 2,
   "id": "bfb64574-0c2f-4c12-ad0b-d30c9a570d0c",
   "metadata": {},
   "outputs": [],
   "source": [
    "if not os.path.exists('/rd2/user/xiacr/sle/output_file/cNMF/test/'):\n",
    "    os.mkdir('/rd2/user/xiacr/sle/output_file/cNMF/test/')\n",
    "os.chdir('/rd2/user/xiacr/sle/output_file/cNMF/test/')"
   ]
  },
  {
   "cell_type": "code",
   "execution_count": 5,
   "id": "3300b357-4a3f-4430-8b8a-4a90fbb51747",
   "metadata": {},
   "outputs": [],
   "source": [
    "numiter=200     # Number of NMF replicates. Set this to a larger value ~200 for real data. We set this to a relatively low value here for illustration at a faster speed\n",
    "numworkers= 32   # Number of parallel factorization jobs to run. Set this to a value reflective of the number of cores on your computer.\n",
    "numhvgenes=2000 # Number of over-dispersed genes to use for running the actual factorizations\n",
    "\n",
    "## Results will be saved to [output_directory]/[run_name] which in this example is example_PBMC/cNMF/pbmc_cNMF\n",
    "cnmf_path = '../../../source/cNMF/cnmf.py'\n",
    "\n",
    "output_directory = './cNMF_out'\n",
    "if not os.path.exists(output_directory):\n",
    "    os.mkdir(output_directory)\n",
    "run_name = 'platelet_cNMF'\n",
    "\n",
    "## Specify the Ks to use as a space separated list in this case \"5 6 7 8 9 10\"\n",
    "K = ' '.join([str(i) for i in range(5,11)])\n",
    "## To speed this up, you can run it for only K=7-8 with the option below\n",
    "#K = ' '.join([str(i) for i in range(7,9)])\n",
    "\n",
    "seed = 14 ## Specify a seed pseudorandom number generation for reproducibility\n",
    "\n",
    "## Path to the filtered counts dataset we output previously\n",
    "countfn = './platelet_harmony_anno_sceasy.h5ad'"
   ]
  },
  {
   "cell_type": "code",
   "execution_count": 7,
   "id": "402f1d79-27de-4337-abe7-543f6bbd75d9",
   "metadata": {},
   "outputs": [
    {
     "name": "stdout",
     "output_type": "stream",
     "text": [
      "Prepare command assuming parallelization with 32 cores:\n",
      "python ../../../source/cNMF/cnmf.py prepare --output-dir ./cNMF_out --name platelet_cNMF -c ./platelet_harmony_anno_sceasy.h5ad -k 5 6 7 8 9 10 --n-iter 200 --total-workers 32 --seed 14 --numgenes 2000 --beta-loss frobenius\n",
      "\n",
      "CommandNotFoundError: Your shell has not been properly configured to use 'conda activate'.\n",
      "To initialize your shell, run\n",
      "\n",
      "    $ conda init <SHELL_NAME>\n",
      "\n",
      "Currently supported shells are:\n",
      "  - bash\n",
      "  - fish\n",
      "  - tcsh\n",
      "  - xonsh\n",
      "  - zsh\n",
      "  - powershell\n",
      "\n",
      "See 'conda init --help' for more information and options.\n",
      "\n",
      "IMPORTANT: You may need to close and restart your shell after running 'conda init'.\n",
      "\n",
      "\n",
      "Traceback (most recent call last):\n",
      "  File \"../../../source/cNMF/cnmf.py\", line 7, in <module>\n",
      "    import yaml\n",
      "ModuleNotFoundError: No module named 'yaml'\n"
     ]
    }
   ],
   "source": [
    "prepare_cmd = 'python %s prepare --output-dir %s --name %s -c %s -k %s --n-iter %d --total-workers %d --seed %d --numgenes %d --beta-loss frobenius' % (cnmf_path, output_directory, run_name, countfn, K, numiter, numworkers, seed, numhvgenes)\n",
    "print('Prepare command assuming parallelization with %d cores:\\n%s' % (numworkers, prepare_cmd))\n",
    "! conda activate cnmf_env &  {prepare_cmd}"
   ]
  },
  {
   "cell_type": "code",
   "execution_count": 9,
   "id": "feb7f61c-0bd1-4850-8d3a-03ba27fb7adb",
   "metadata": {},
   "outputs": [
    {
     "name": "stdout",
     "output_type": "stream",
     "text": [
      "Factorize command to simultaneously run factorization over 32 cores using GNU parallel:\n",
      "nohup parallel python ../../../source/cNMF/cnmf.py factorize --output-dir ./cNMF_out --name platelet_cNMF --worker-index {} ::: 0 1 2 3 4 5 6 7 8 9 10 11 12 13 14 15 16 17 18 19 20 21 22 23 24 25 26 27 28 29 30 31\n"
     ]
    }
   ],
   "source": [
    "## Using GNU parallel\n",
    "## This took 4 minutes in our testing\n",
    "worker_index = ' '.join([str(x) for x in range(numworkers)])\n",
    "factorize_cmd = 'nohup parallel python %s factorize --output-dir %s --name %s --worker-index {} ::: %s' % (cnmf_path, output_directory, run_name, worker_index)\n",
    "print('Factorize command to simultaneously run factorization over %d cores using GNU parallel:\\n%s' % (numworkers, factorize_cmd))\n",
    "#!{factorize_cmd}"
   ]
  }
 ],
 "metadata": {
  "kernelspec": {
   "display_name": "cNMF",
   "language": "python",
   "name": "cnmf"
  },
  "language_info": {
   "codemirror_mode": {
    "name": "ipython",
    "version": 3
   },
   "file_extension": ".py",
   "mimetype": "text/x-python",
   "name": "python",
   "nbconvert_exporter": "python",
   "pygments_lexer": "ipython3",
   "version": "3.7.0"
  }
 },
 "nbformat": 4,
 "nbformat_minor": 5
}
