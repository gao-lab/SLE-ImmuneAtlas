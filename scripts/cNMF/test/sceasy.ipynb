{
 "cells": [
  {
   "cell_type": "code",
   "execution_count": 1,
   "id": "256e2523-8fdf-4648-839d-35738dd663b8",
   "metadata": {},
   "outputs": [
    {
     "name": "stderr",
     "output_type": "stream",
     "text": [
      "Loading required package: reticulate\n",
      "\n"
     ]
    }
   ],
   "source": [
    "library(sceasy)"
   ]
  },
  {
   "cell_type": "code",
   "execution_count": 2,
   "id": "29b8464a-2281-47e2-882c-4a49496dfe1a",
   "metadata": {},
   "outputs": [],
   "source": [
    "setwd('/rd2/user/xiacr/sle/')\n",
    "load('./output_file/seurat/platelet/platelet_harmony_anno.rdata')"
   ]
  },
  {
   "cell_type": "code",
   "execution_count": 5,
   "id": "ba49dc7a-4b47-481c-8d2f-4a5a8a7913f2",
   "metadata": {},
   "outputs": [],
   "source": [
    "platelet_harmony@assays$RNA@data <- platelet_harmony@assays$RNA@counts"
   ]
  },
  {
   "cell_type": "code",
   "execution_count": 6,
   "id": "a1cf3df0-7b82-4b13-9fc4-6b6c6fcb5d60",
   "metadata": {},
   "outputs": [
    {
     "name": "stderr",
     "output_type": "stream",
     "text": [
      "Warning message in .regularise_df(obj@meta.data, drop_single_values = drop_single_values):\n",
      "“Dropping single category variables:old.ident, RNA_snn_res.1, cell_type”\n"
     ]
    },
    {
     "data": {
      "text/plain": [
       "AnnData object with n_obs × n_vars = 4667 × 23445\n",
       "    obs: 'orig.ident', 'nCount_RNA', 'nFeature_RNA', 'percent_mito', 'percent_ribo', 'S.Score', 'G2M.Score', 'Phase', 'seurat_clusters', 'group', 'treatment', 'pair', 'RNA_snn_res.0.8', 'subtype'\n",
       "    var: 'vst.mean', 'vst.variance', 'vst.variance.expected', 'vst.variance.standardized', 'vst.variable'\n",
       "    obsm: 'X_pca', 'X_umap', 'X_harmony'"
      ]
     },
     "metadata": {},
     "output_type": "display_data"
    }
   ],
   "source": [
    "sceasy::convertFormat(platelet_harmony, from=\"seurat\", to=\"anndata\",\n",
    "                       outFile='./output_file/cNMF/test/platelet_harmony_anno_sceasy.h5ad')"
   ]
  }
 ],
 "metadata": {
  "kernelspec": {
   "display_name": "R41 4.0.3",
   "language": "R",
   "name": "ir403"
  },
  "language_info": {
   "codemirror_mode": "r",
   "file_extension": ".r",
   "mimetype": "text/x-r-source",
   "name": "R",
   "pygments_lexer": "r",
   "version": "4.0.3"
  }
 },
 "nbformat": 4,
 "nbformat_minor": 5
}
