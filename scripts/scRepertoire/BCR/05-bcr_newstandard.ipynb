{
 "cells": [
  {
   "cell_type": "code",
   "execution_count": 1,
   "id": "c23db0dd-320e-4080-bb27-ddbab206868d",
   "metadata": {},
   "outputs": [],
   "source": [
    "suppressMessages(library(scRepertoire))\n",
    "suppressMessages(library(Seurat))\n",
    "suppressMessages(library(tidyverse))\n",
    "suppressMessages(library(ggpubr))"
   ]
  },
  {
   "cell_type": "code",
   "execution_count": 2,
   "id": "6f75e52c-968a-490e-9da8-10a245f17261",
   "metadata": {},
   "outputs": [],
   "source": [
    "setwd('/rd2/user/xiacr/sle/')\n",
    "# output_path <- './output_file/seurat"
   ]
  },
  {
   "cell_type": "code",
   "execution_count": 3,
   "id": "bbc897c0-fe99-4694-ae70-d44c8f635aca",
   "metadata": {},
   "outputs": [
    {
     "data": {
      "text/html": [
       "<style>\n",
       ".list-inline {list-style: none; margin:0; padding: 0}\n",
       ".list-inline>li {display: inline-block}\n",
       ".list-inline>li:not(:last-child)::after {content: \"\\00b7\"; padding: 0 .5ex}\n",
       "</style>\n",
       "<ol class=list-inline><li>'bcell_filter'</li><li>'combined_bcr'</li></ol>\n"
      ],
      "text/latex": [
       "\\begin{enumerate*}\n",
       "\\item 'bcell\\_filter'\n",
       "\\item 'combined\\_bcr'\n",
       "\\end{enumerate*}\n"
      ],
      "text/markdown": [
       "1. 'bcell_filter'\n",
       "2. 'combined_bcr'\n",
       "\n",
       "\n"
      ],
      "text/plain": [
       "[1] \"bcell_filter\" \"combined_bcr\""
      ]
     },
     "metadata": {},
     "output_type": "display_data"
    }
   ],
   "source": [
    "load('./final/seurat/b_cell/03-b_cell_anno_filter_harm.rdata')\n",
    "load('./final/scRepertoire/BCR/combined_bcr.rdata')\n",
    "ls()"
   ]
  },
  {
   "cell_type": "code",
   "execution_count": 4,
   "id": "8b5e5ee0-8cab-4d2b-80e7-c4f8b3aae403",
   "metadata": {},
   "outputs": [
    {
     "data": {
      "text/html": [
       "<style>\n",
       ".list-inline {list-style: none; margin:0; padding: 0}\n",
       ".list-inline>li {display: inline-block}\n",
       ".list-inline>li:not(:last-child)::after {content: \"\\00b7\"; padding: 0 .5ex}\n",
       "</style>\n",
       "<ol class=list-inline><li>'GW_SLE_CAGGTGCCAGGGCATA-1'</li><li>'GW_SLE_GAGGTGATCTCTTGAT-1'</li><li>'GW_SLE_AACCATGCACCAGTTA-1'</li><li>'GW_SLE_GGACAAGGTACATGTC-1'</li><li>'GW_SLE_TACGGGCTCTCGATGA-1'</li><li>'GW_SLE_CGTGTCTCATGCATGT-1'</li></ol>\n"
      ],
      "text/latex": [
       "\\begin{enumerate*}\n",
       "\\item 'GW\\_SLE\\_CAGGTGCCAGGGCATA-1'\n",
       "\\item 'GW\\_SLE\\_GAGGTGATCTCTTGAT-1'\n",
       "\\item 'GW\\_SLE\\_AACCATGCACCAGTTA-1'\n",
       "\\item 'GW\\_SLE\\_GGACAAGGTACATGTC-1'\n",
       "\\item 'GW\\_SLE\\_TACGGGCTCTCGATGA-1'\n",
       "\\item 'GW\\_SLE\\_CGTGTCTCATGCATGT-1'\n",
       "\\end{enumerate*}\n"
      ],
      "text/markdown": [
       "1. 'GW_SLE_CAGGTGCCAGGGCATA-1'\n",
       "2. 'GW_SLE_GAGGTGATCTCTTGAT-1'\n",
       "3. 'GW_SLE_AACCATGCACCAGTTA-1'\n",
       "4. 'GW_SLE_GGACAAGGTACATGTC-1'\n",
       "5. 'GW_SLE_TACGGGCTCTCGATGA-1'\n",
       "6. 'GW_SLE_CGTGTCTCATGCATGT-1'\n",
       "\n",
       "\n"
      ],
      "text/plain": [
       "[1] \"GW_SLE_CAGGTGCCAGGGCATA-1\" \"GW_SLE_GAGGTGATCTCTTGAT-1\"\n",
       "[3] \"GW_SLE_AACCATGCACCAGTTA-1\" \"GW_SLE_GGACAAGGTACATGTC-1\"\n",
       "[5] \"GW_SLE_TACGGGCTCTCGATGA-1\" \"GW_SLE_CGTGTCTCATGCATGT-1\""
      ]
     },
     "metadata": {},
     "output_type": "display_data"
    },
    {
     "data": {
      "text/html": [
       "<style>\n",
       ".list-inline {list-style: none; margin:0; padding: 0}\n",
       ".list-inline>li {display: inline-block}\n",
       ".list-inline>li:not(:last-child)::after {content: \"\\00b7\"; padding: 0 .5ex}\n",
       "</style>\n",
       "<ol class=list-inline><li>'AAACCTGCACCGCTAG-1_1'</li><li>'AAACCTGCACTAAGTC-1_1'</li><li>'AAACCTGGTCTCTTAT-1_1'</li><li>'AAACGGGCACAGATTC-1_1'</li><li>'AAACGGGGTTTGTTTC-1_1'</li><li>'AAAGATGCAGTATAAG-1_1'</li></ol>\n"
      ],
      "text/latex": [
       "\\begin{enumerate*}\n",
       "\\item 'AAACCTGCACCGCTAG-1\\_1'\n",
       "\\item 'AAACCTGCACTAAGTC-1\\_1'\n",
       "\\item 'AAACCTGGTCTCTTAT-1\\_1'\n",
       "\\item 'AAACGGGCACAGATTC-1\\_1'\n",
       "\\item 'AAACGGGGTTTGTTTC-1\\_1'\n",
       "\\item 'AAAGATGCAGTATAAG-1\\_1'\n",
       "\\end{enumerate*}\n"
      ],
      "text/markdown": [
       "1. 'AAACCTGCACCGCTAG-1_1'\n",
       "2. 'AAACCTGCACTAAGTC-1_1'\n",
       "3. 'AAACCTGGTCTCTTAT-1_1'\n",
       "4. 'AAACGGGCACAGATTC-1_1'\n",
       "5. 'AAACGGGGTTTGTTTC-1_1'\n",
       "6. 'AAAGATGCAGTATAAG-1_1'\n",
       "\n",
       "\n"
      ],
      "text/plain": [
       "[1] \"AAACCTGCACCGCTAG-1_1\" \"AAACCTGCACTAAGTC-1_1\" \"AAACCTGGTCTCTTAT-1_1\"\n",
       "[4] \"AAACGGGCACAGATTC-1_1\" \"AAACGGGGTTTGTTTC-1_1\" \"AAAGATGCAGTATAAG-1_1\""
      ]
     },
     "metadata": {},
     "output_type": "display_data"
    }
   ],
   "source": [
    "# We need to handle the barcode difference between scRepertoire and seurat\n",
    "head(combined_bcr$GW_SLE$barcode)\n",
    "# SAMPLE + GROUP + BARCODE\n",
    "Cells(bcell_filter) %>% head()\n",
    "scRepertoire_barcode <- bcell_filter@meta.data %>% rownames_to_column('barcode')%>% \n",
    "    mutate(new_barcode = str_split_fixed(barcode ,'_',2)[,1])%>% \n",
    "    mutate(scRepertoire=paste0(orig.ident,'_',group,'_',new_barcode) )%>% select(scRepertoire) \n",
    "\n",
    "bcell_filter <- RenameCells(bcell_filter, new.names = scRepertoire_barcode$scRepertoire)"
   ]
  },
  {
   "cell_type": "code",
   "execution_count": 10,
   "id": "f45f882e-15b1-4057-8766-9461078a923f",
   "metadata": {},
   "outputs": [
    {
     "ename": "ERROR",
     "evalue": "Error in x[[jj]][iseq] <- vjj: replacement has length zero\n",
     "output_type": "error",
     "traceback": [
      "Error in x[[jj]][iseq] <- vjj: replacement has length zero\nTraceback:\n",
      "1. quantContig(combined_bcr, cloneCall = \"CTstrict\", scale = T, \n .     chain = \"IGH\", group.by = \"group\")",
      "2. `[<-`(`*tmp*`, i, 4, value = structure(list(), .Names = character(0), row.names = 1L, class = \"data.frame\"))",
      "3. `[<-.data.frame`(`*tmp*`, i, 4, value = structure(list(), .Names = character(0), row.names = 1L, class = \"data.frame\"))"
     ]
    }
   ],
   "source": [
    "quantContig(combined_bcr, cloneCall=\"CTstrict\", scale = T,chain = 'IGH',group.by='group')"
   ]
  }
 ],
 "metadata": {
  "kernelspec": {
   "display_name": "R413 SLE",
   "language": "R",
   "name": "ir413"
  },
  "language_info": {
   "codemirror_mode": "r",
   "file_extension": ".r",
   "mimetype": "text/x-r-source",
   "name": "R",
   "pygments_lexer": "r",
   "version": "4.0.3"
  }
 },
 "nbformat": 4,
 "nbformat_minor": 5
}
